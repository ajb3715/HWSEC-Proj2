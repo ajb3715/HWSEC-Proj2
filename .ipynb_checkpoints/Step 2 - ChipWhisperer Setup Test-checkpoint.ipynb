{
 "cells": [
  {
   "cell_type": "markdown",
   "metadata": {},
   "source": [
    "# ChipWhisperer Setup Test"
   ]
  },
  {
   "cell_type": "markdown",
   "metadata": {},
   "source": [
    "The following notebook can be used to quickly perform a test of your ChipWhisperer capture setup.\n",
    "\n",
    "If you have downloaded the ChipWhisperer virtual machine, the only real test is if you can connect to the hardware. The VM includes all required tools such as Python modules, compilers, etc. If you are installing \"Bare metal\", you will need to ensure the compiler and similar are working to follow along with the tutorials."
   ]
  },
  {
   "cell_type": "markdown",
   "metadata": {},
   "source": [
    "## Jupyter Setup"
   ]
  },
  {
   "cell_type": "markdown",
   "metadata": {},
   "source": [
    "Presumably you've already got Jupyter running! So that's pretty good start. You can test that a few imports are working by running the following, you shouldn't get any exceptions:"
   ]
  },
  {
   "cell_type": "code",
   "execution_count": 1,
   "metadata": {},
   "outputs": [
    {
     "name": "stderr",
     "output_type": "stream",
     "text": [
      "(ChipWhisperer Other WARNING|File __init__.py:69) ChipWhisperer update available! See https://chipwhisperer.readthedocs.io/en/latest/installing.html for updating instructions\n"
     ]
    },
    {
     "name": "stdout",
     "output_type": "stream",
     "text": [
      "Help on package chipwhisperer:\n",
      "\n",
      "NAME\n",
      "    chipwhisperer\n",
      "\n",
      "DESCRIPTION\n",
      "    .. module:: chipwhisperer\n",
      "       :platform: Unix, Windows\n",
      "       :synopsis: Test\n",
      "    \n",
      "    .. moduleauthor:: NewAE Technology Inc.\n",
      "    \n",
      "    Main module for ChipWhisperer.\n",
      "\n",
      "PACKAGE CONTENTS\n",
      "    analyzer (package)\n",
      "    capture (package)\n",
      "    common (package)\n",
      "    hardware (package)\n",
      "    logging\n",
      "\n",
      "SUBMODULES\n",
      "    key_text_patterns\n",
      "    ktp\n",
      "    programmers\n",
      "    project\n",
      "    scopes\n",
      "    targets\n",
      "    util\n",
      "\n",
      "FUNCTIONS\n",
      "    capture_trace(scope: Union[chipwhisperer.capture.scopes.OpenADC.OpenADC, chipwhisperer.capture.scopes.cwnano.CWNano], target: Union[chipwhisperer.capture.targets.CW305.CW305, chipwhisperer.capture.targets.CW305_ECC.CW305_ECC, chipwhisperer.capture.targets.CW310.CW310, chipwhisperer.capture.targets.SimpleSerial.SimpleSerial, chipwhisperer.capture.targets.SimpleSerial2.SimpleSerial2, chipwhisperer.capture.targets.SimpleSerial2.SimpleSerial2_CDC], plaintext: chipwhisperer.common.utils.util.bytearray, key: Optional[chipwhisperer.common.utils.util.bytearray] = None, ack: bool = True, poll_done: bool = False, as_int: bool = False) -> Optional[chipwhisperer.common.traces.Trace]\n",
      "        Capture a trace, sending plaintext and key\n",
      "        \n",
      "        Does all individual steps needed to capture a trace (arming the scope\n",
      "        sending the key/plaintext, getting the trace data back, etc.). Uses\n",
      "        target.output_len as the length of the expected target reponse for\n",
      "        simpleserial.\n",
      "        \n",
      "        Args:\n",
      "            scope (ScopeTemplate): Scope object to use for capture.\n",
      "            target (TargetTemplate): Target object to read/write text from.\n",
      "            plaintext (bytearray): Plaintext to send to the target. Should be\n",
      "                unencoded bytearray (will be converted to SimpleSerial when it's\n",
      "                sent). If None, don't send plaintext.\n",
      "            key (bytearray, optional): Key to send to target. Should be unencoded\n",
      "                bytearray. If None, don't send key. Defaults to None.\n",
      "            ack (bool, optional): Check for ack when reading response from target.\n",
      "                Defaults to True.\n",
      "            poll_done (bool, optional): poll Husky to find out when it's done\n",
      "                capturing, instead of calculating the capture time based on the\n",
      "                capture parameters. Useful for long trigger-based segmented\n",
      "                captures.  Can also result in slightly faster captures when the\n",
      "                number of samples is high. Defaults to False. Supported by Husky\n",
      "                only.\n",
      "            as_int (bool, optional): If False, return trace as a float. Otherwise,\n",
      "                return as an int.\n",
      "        \n",
      "        Returns:\n",
      "            :class:`Trace <chipwhisperer.common.traces.Trace>` or None if capture\n",
      "            timed out.\n",
      "        \n",
      "        Raises:\n",
      "            Warning or OSError: Error during capture.\n",
      "        \n",
      "        Example:\n",
      "            Capturing a trace::\n",
      "        \n",
      "                import chipwhisperer as cw\n",
      "                scope = cw.scope()\n",
      "                scope.default_setup()\n",
      "                target = cw.target()\n",
      "                ktp = cw.ktp.Basic()\n",
      "                key, pt = ktp.new_pair()\n",
      "                trace = cw.capture_trace(scope, target, pt, key)\n",
      "        \n",
      "        .. versionadded:: 5.1\n",
      "            Added to simplify trace capture.\n",
      "        \n",
      "        .. versionchanged:: 5.2\n",
      "            Added ack parameter and use of target.output_len\n",
      "        \n",
      "        .. versionchanged:: 5.6.1\n",
      "            Added poll_done parameter for Husky\n",
      "    \n",
      "    check_for_updates() -> str\n",
      "        Check if current ChipWhisperer version is the latest.\n",
      "        \n",
      "        Checks pypi.\n",
      "        \n",
      "        .. versionadded:: 5.6.1\n",
      "    \n",
      "    create_project(filename: str, overwrite: bool = False)\n",
      "        Create a new project with the path <filename>.\n",
      "        \n",
      "        If <overwrite> is False, raise an OSError if this path already exists.\n",
      "        \n",
      "        Args:\n",
      "           filename (str): File path to create project file at. Must end with .cwp\n",
      "           overwrite (bool, optional): Whether or not to overwrite an existing\n",
      "               project with <filename>. Raises an OSError if path already exists\n",
      "               and this is false. Defaults to false.\n",
      "        \n",
      "        Returns:\n",
      "           A chipwhisperer project object.\n",
      "        \n",
      "        Raises:\n",
      "           OSError: filename exists and overwrite is False.\n",
      "    \n",
      "    import_project(filename: str, file_type: str = 'zip', overwrite: bool = False)\n",
      "        Import and open a project.\n",
      "        \n",
      "        Will import the **filename** by extracting to the current working\n",
      "        directory.\n",
      "        \n",
      "        Currently support file types:\n",
      "         * zip\n",
      "        \n",
      "        Args:\n",
      "            filename (str): The file name to import.\n",
      "            file_type (str): The type of file that is being imported.\n",
      "                Default is zip.\n",
      "            overwrite (bool): Whether or not to overwrite the project given as\n",
      "                the **import_as** project.\n",
      "        \n",
      "        .. versionadded:: 5.1\n",
      "            Add **import_project** function.\n",
      "    \n",
      "    open_project(filename: str)\n",
      "        Load an existing project from disk.\n",
      "        \n",
      "        Args:\n",
      "           filename (str): Path to project file.\n",
      "        \n",
      "        Returns:\n",
      "           A chipwhisperer project object.\n",
      "        \n",
      "        Raises:\n",
      "           OSError: filename does not exist.\n",
      "    \n",
      "    plot(*args, **kwargs)\n",
      "        Get a plotting object for use in Jupyter.\n",
      "        \n",
      "        Uses a Holoviews/Bokeh plot with a width of 800 and\n",
      "        a height of 600. You must have Holoviews and Bokeh\n",
      "        installed, as well as be working in a Jupyter\n",
      "        environment.\n",
      "        \n",
      "        args and kwargs are the same as a typical Holoviews plot.\n",
      "        \n",
      "        Plotting a trace in a Jupyter environment::\n",
      "        \n",
      "            import chipwhisperer as cw\n",
      "            scope = cw.scope()\n",
      "            ...\n",
      "            trace = cw.capture_trace(scope, target, text, key)\n",
      "            display(cw.plot(trace.wave))\n",
      "        \n",
      "        Returns:\n",
      "            A holoviews Curve object\n",
      "        \n",
      "        .. versionadded:: 5.4\n",
      "    \n",
      "    program_sam_firmware(serial_port: Optional[str] = None, hardware_type: Optional[str] = None, fw_path: Optional[str] = None)\n",
      "        Program firmware onto an erased chipwhisperer scope or target\n",
      "        \n",
      "        See https://chipwhisperer.readthedocs.io/en/latest/firmware.html for more information\n",
      "        \n",
      "        .. versionadded:: 5.6.1\n",
      "            Improved programming interface\n",
      "    \n",
      "    program_target(scope: Union[chipwhisperer.capture.scopes.OpenADC.OpenADC, chipwhisperer.capture.scopes.cwnano.CWNano], prog_type, fw_path: str, **kwargs)\n",
      "        Program the target using the programmer <type>\n",
      "        \n",
      "        Programmers can be found in the programmers submodule\n",
      "        \n",
      "        Args:\n",
      "           scope (ScopeTemplate): Connected scope object to use for programming\n",
      "           prog_type (Programmer): Programmer to use. See chipwhisperer.programmers\n",
      "               for available programmers\n",
      "           fw_path (str): Path to hex file to program\n",
      "        \n",
      "        .. versionadded:: 5.0.1\n",
      "            Simplified programming target\n",
      "    \n",
      "    scope(scope_type: Type[Union[chipwhisperer.capture.scopes.OpenADC.OpenADC, chipwhisperer.capture.scopes.cwnano.CWNano]] = None, name: Optional[str] = None, sn: Optional[str] = None, idProduct: Optional[int] = None, bitstream: Optional[str] = None, force: bool = False, prog_speed: int = 10000000, **kwargs) -> Union[chipwhisperer.capture.scopes.OpenADC.OpenADC, chipwhisperer.capture.scopes.cwnano.CWNano]\n",
      "        Create a scope object and connect to it.\n",
      "        \n",
      "        This function allows any type of scope to be created. By default, the\n",
      "        object created is based on the attached hardware (OpenADC for\n",
      "        CWLite/CW1200, CWNano for CWNano).\n",
      "        \n",
      "        Scope Types:\n",
      "         * :class:`scopes.OpenADC` (Pro and Lite)\n",
      "         * :class:`scopes.CWNano` (Nano)\n",
      "        \n",
      "        If multiple chipwhisperers are connected, the serial number of the one you\n",
      "        want to connect to can be specified by passing sn=<SERIAL_NUMBER>\n",
      "        \n",
      "        Args:\n",
      "            scope_type: Scope type to connect to. Types\n",
      "                can be found in chipwhisperer.scopes. If None, will try to detect\n",
      "                the type of ChipWhisperer connected. Defaults to None.\n",
      "            name: model name of the ChipWhisperer that you want to\n",
      "                connect to. Alternative to specifying the serial number when\n",
      "                multiple ChipWhisperers, all of different type, are connected.\n",
      "                Defaults to None. Valid values:\n",
      "        \n",
      "                * Lite\n",
      "        \n",
      "                * Pro\n",
      "        \n",
      "                * Husky\n",
      "        \n",
      "            idProduct: idProduct of the ChipWhisperer that you want to\n",
      "                connect to. Alternative to specifying the serial number when\n",
      "                multiple ChipWhisperers, all of different type, are connected.\n",
      "                Defaults to None. Valid values:\n",
      "        \n",
      "                * 0xace2: CW-Lite\n",
      "        \n",
      "                * 0xace3: CW-Pro\n",
      "        \n",
      "                * 0xace5: CW-Husky\n",
      "        \n",
      "            sn: Serial number of ChipWhisperer that you want to\n",
      "                connect to. sn is required if more than one ChipWhisperer of the\n",
      "                same type is connected (i.e. two CWNano's or a CWLite and CWPro).\n",
      "                Defaults to None.\n",
      "            bitstream: Path to bitstream to program. If None,\n",
      "                programs default bitstream. Optional, defaults to None. Ignored\n",
      "                on Nano.\n",
      "            force: If True, always erase and program\n",
      "                FPGA. If False, only erase and program FPGA if it\n",
      "                is currently blank. Defaults to False. Ignored on Nano.\n",
      "            prog_speed: Sets the FPGA programming speed for Lite, Pro, and Husky.\n",
      "                If you get programming errors, try turning this down.\n",
      "        \n",
      "        Returns:\n",
      "            Connected scope object.\n",
      "        \n",
      "        Raises:\n",
      "            OSError: Can be raised for issues connecting to the chipwhisperer, such\n",
      "                as not having permission to access the USB device or no ChipWhisperer\n",
      "                being connected.\n",
      "            Warning: Raised if multiple chipwhisperers are connected, but the type\n",
      "                and/or the serial numbers are not specified\n",
      "        \n",
      "        .. versionchanged:: 5.1\n",
      "            Added autodetection of scope_type\n",
      "        \n",
      "        .. versionchanged:: 5.5\n",
      "                Added idProduct, name, bitstream, and force parameters.\n",
      "    \n",
      "    target(scope: Union[chipwhisperer.capture.scopes.OpenADC.OpenADC, chipwhisperer.capture.scopes.cwnano.CWNano, NoneType], target_type: type = <class 'chipwhisperer.capture.targets.SimpleSerial.SimpleSerial'>, **kwargs) -> Union[chipwhisperer.capture.targets.CW305.CW305, chipwhisperer.capture.targets.CW305_ECC.CW305_ECC, chipwhisperer.capture.targets.CW310.CW310, chipwhisperer.capture.targets.SimpleSerial.SimpleSerial, chipwhisperer.capture.targets.SimpleSerial2.SimpleSerial2, chipwhisperer.capture.targets.SimpleSerial2.SimpleSerial2_CDC]\n",
      "        Create a target object and connect to it.\n",
      "        \n",
      "        Args:\n",
      "           scope (ScopeTemplate): Scope object that we're connecting to the target\n",
      "               through.\n",
      "           target_type (TargetTemplate, optional): Target type to connect to.\n",
      "               Defaults to targets.SimpleSerial. Types can be found in\n",
      "               chipwhisperer.targets.\n",
      "           **kwargs: Additional keyword arguments to pass to target setup. Rarely\n",
      "               needed.\n",
      "        \n",
      "        Returns:\n",
      "            Connected target object specified by target_type.\n",
      "\n",
      "DATA\n",
      "    Optional = typing.Optional\n",
      "        Optional type.\n",
      "        \n",
      "        Optional[X] is equivalent to Union[X, None].\n",
      "    \n",
      "    Type = typing.Type\n",
      "        A special construct usable to annotate class objects.\n",
      "        \n",
      "        For example, suppose we have the following classes::\n",
      "        \n",
      "          class User: ...  # Abstract base for User classes\n",
      "          class BasicUser(User): ...\n",
      "          class ProUser(User): ...\n",
      "          class TeamUser(User): ...\n",
      "        \n",
      "        And a function that takes a class argument that's a subclass of\n",
      "        User and returns an instance of the corresponding class::\n",
      "        \n",
      "          U = TypeVar('U', bound=User)\n",
      "          def new_user(user_class: Type[U]) -> U:\n",
      "              user = user_class()\n",
      "              # (Here we could write the user object to a database)\n",
      "              return user\n",
      "        \n",
      "          joe = new_user(BasicUser)\n",
      "        \n",
      "        At this point the type checker knows that joe has type BasicUser.\n",
      "    \n",
      "    Union = typing.Union\n",
      "        Union type; Union[X, Y] means either X or Y.\n",
      "        \n",
      "        To define a union, use e.g. Union[int, str].  Details:\n",
      "        - The arguments must be types and there must be at least one.\n",
      "        - None as an argument is a special case and is replaced by\n",
      "          type(None).\n",
      "        - Unions of unions are flattened, e.g.::\n",
      "        \n",
      "            Union[Union[int, str], float] == Union[int, str, float]\n",
      "        \n",
      "        - Unions of a single argument vanish, e.g.::\n",
      "        \n",
      "            Union[int] == int  # The constructor actually returns int\n",
      "        \n",
      "        - Redundant arguments are skipped, e.g.::\n",
      "        \n",
      "            Union[int, str, int] == Union[int, str]\n",
      "        \n",
      "        - When comparing unions, the argument order is ignored, e.g.::\n",
      "        \n",
      "            Union[int, str] == Union[str, int]\n",
      "        \n",
      "        - You cannot subclass or instantiate a union.\n",
      "        - You can use Optional[X] as a shorthand for Union[X, None].\n",
      "    \n",
      "    chipwhisperer_loggers = [<Logger ChipWhisperer NAEUSB (WARNING)>, <Log...\n",
      "    cw_formatter = <logging.Formatter object>\n",
      "    filehndlr = <FileHandler C:\\Users\\mjzeec\\AppData\\Roaming\\Pyt...whisper...\n",
      "    glitch_logger = <Logger ChipWhisperer Glitch (WARNING)>\n",
      "    logger = <Logger ChipWhisperer Glitch (WARNING)>\n",
      "    naeusb_logger = <Logger ChipWhisperer NAEUSB (WARNING)>\n",
      "    other_logger = <Logger ChipWhisperer Other (WARNING)>\n",
      "    scope_logger = <Logger ChipWhisperer Scope (WARNING)>\n",
      "    strmhndlr = <StreamHandler stderr (DEBUG)>\n",
      "    target_logger = <Logger ChipWhisperer Target (WARNING)>\n",
      "    tracewhisperer_logger = <Logger ChipWhisperer TraceWhisperer (WARNING)...\n",
      "\n",
      "VERSION\n",
      "    5.6.1\n",
      "\n",
      "FILE\n",
      "    c:\\users\\mjzeec\\appdata\\roaming\\python\\python39\\site-packages\\chipwhisperer\\__init__.py\n",
      "\n",
      "\n"
     ]
    }
   ],
   "source": [
    "import chipwhisperer\n",
    "help(chipwhisperer)"
   ]
  },
  {
   "cell_type": "markdown",
   "metadata": {},
   "source": [
    "The following should generate a plot - **NOTE: You may need to run this multiple times for some reason**"
   ]
  },
  {
   "cell_type": "code",
   "execution_count": null,
   "metadata": {},
   "outputs": [],
   "source": [
    "import matplotlib.pylab as plt\n",
    "plt.plot(range(0, 10))"
   ]
  },
  {
   "cell_type": "markdown",
   "metadata": {},
   "source": [
    "The following should generate an interactive plot"
   ]
  },
  {
   "cell_type": "code",
   "execution_count": null,
   "metadata": {},
   "outputs": [],
   "source": [
    "%matplotlib notebook\n",
    "import matplotlib.pylab as plt\n",
    "plt.plot(range(0, 10))"
   ]
  },
  {
   "cell_type": "markdown",
   "metadata": {},
   "source": [
    "## ChipWhisperer Hardware Test"
   ]
  },
  {
   "cell_type": "markdown",
   "metadata": {},
   "source": [
    "The following will connect to a ChipWhisperer. Just plug the Chipwhisperer main board in itself (black PCB or ChipWhisperer-Pro box), this isn't testing any of the attached target boards or similar. If the ChipWhisperer communication is up, everything else should \"just work\" when talking to various targets.\n",
    "\n",
    "This should result in some text that says ``INFO: Found ChipWhisperer😍``"
   ]
  },
  {
   "cell_type": "code",
   "execution_count": null,
   "metadata": {},
   "outputs": [],
   "source": [
    "PLATFORM=\"NOTHING\"\n",
    "%run Setup_Scripts/Setup_Generic.ipynb"
   ]
  },
  {
   "cell_type": "markdown",
   "metadata": {},
   "source": [
    "We aren't going to use the hardware, so should disconnect from it so it is dropped by this Python kernel."
   ]
  },
  {
   "cell_type": "code",
   "execution_count": null,
   "metadata": {},
   "outputs": [],
   "source": [
    "scope.dis()\n",
    "target.dis()"
   ]
  },
  {
   "cell_type": "markdown",
   "metadata": {},
   "source": [
    "## Bash / Command-Line Test"
   ]
  },
  {
   "cell_type": "markdown",
   "metadata": {},
   "source": [
    "The following will check you have a working bash or command-line interface. We'll be using this for running ``make`` and other such commands."
   ]
  },
  {
   "cell_type": "code",
   "execution_count": null,
   "metadata": {},
   "outputs": [],
   "source": [
    "%%bash\n",
    "dir"
   ]
  },
  {
   "cell_type": "code",
   "execution_count": null,
   "metadata": {},
   "outputs": [],
   "source": [
    "!dir"
   ]
  },
  {
   "cell_type": "markdown",
   "metadata": {},
   "source": [
    "**Remember that Jupyter allows running commands on your system - so exposing the web interface can be dangerous! This is one reason ChipWhisperer-Install on Windows uses a Token by default, and the VM forces you to set a password. Unless you have port forwarding your firewall should prevent access remotely, but if using this on a hostile network be sure you have not opened the port!**"
   ]
  },
  {
   "cell_type": "markdown",
   "metadata": {},
   "source": [
    "## Compiler Testing"
   ]
  },
  {
   "cell_type": "markdown",
   "metadata": {},
   "source": [
    "If you'll be building source code, you need a working Make system. First check you can run `make` - this should give you the normal output of "
   ]
  },
  {
   "cell_type": "code",
   "execution_count": null,
   "metadata": {},
   "outputs": [],
   "source": [
    "!make --version"
   ]
  },
  {
   "cell_type": "markdown",
   "metadata": {},
   "source": [
    "If you are using any of the following, you will need the `arm-none-eabi-gcc` compiler:\n",
    "\n",
    "* ChipWhisperer-Lite 32-bit (with Arm Target).\n",
    "* ChipWhisperer UFO Board with any Arm target (such as STM32F3, STM32F0, etc).\n",
    "* ChipWhisperer-Nano\n",
    "\n",
    "You can easily check for the working compiler with the following, which sohuld print the version and build information:"
   ]
  },
  {
   "cell_type": "code",
   "execution_count": null,
   "metadata": {},
   "outputs": [],
   "source": [
    "!arm-none-eabi-gcc -v"
   ]
  },
  {
   "cell_type": "markdown",
   "metadata": {},
   "source": [
    "If you are using any of the following, you will need the `avr-gcc` compiler:\n",
    "\n",
    "* ChipWhisperer-Lite Classic (with XMEGA Target).\n",
    "* ChipWhisperer UFO Board with XMEGA or AVR Target.\n",
    "* ChipWhisperer-Lite 2-Part Version.\n",
    "\n",
    "You can easily check for the working compiler with the following, which should print the version and build information:"
   ]
  },
  {
   "cell_type": "code",
   "execution_count": null,
   "metadata": {},
   "outputs": [],
   "source": [
    "!avr-gcc -v"
   ]
  },
  {
   "cell_type": "markdown",
   "metadata": {},
   "source": [
    "## Conclusions\n",
    "\n",
    "That's it! We've got a working ChipWhisperer system now. There are a few packages used in specific tutorials that could still be missing if you've done your own install, but the above should have validate all important system settings. Hopefully any of the \"important to setup\" stuff should have been shaken out already."
   ]
  }
 ],
 "metadata": {
  "kernelspec": {
   "display_name": "Python 3 (ipykernel)",
   "language": "python",
   "name": "python3"
  },
  "language_info": {
   "codemirror_mode": {
    "name": "ipython",
    "version": 3
   },
   "file_extension": ".py",
   "mimetype": "text/x-python",
   "name": "python",
   "nbconvert_exporter": "python",
   "pygments_lexer": "ipython3",
   "version": "3.9.1"
  }
 },
 "nbformat": 4,
 "nbformat_minor": 2
}

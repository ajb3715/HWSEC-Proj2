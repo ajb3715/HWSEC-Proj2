{
 "cells": [
  {
   "cell_type": "markdown",
   "metadata": {},
   "source": [
    "# Project 2: Red vs. Blue Encryption Method"
   ]
  },
  {
   "cell_type": "markdown",
   "metadata": {},
   "source": [
    "**SUMMARY:** In this project we will be setting up the device to take in different plain text inputs, the device will encrypt these inputs and we will read back the encrypted text."
   ]
  },
  {
   "cell_type": "code",
   "execution_count": 1,
   "metadata": {},
   "outputs": [
    {
     "name": "stdout",
     "output_type": "stream",
     "text": [
      "INFO: Found ChipWhisperer😍\n"
     ]
    }
   ],
   "source": [
    "SCOPETYPE = 'OPENADC'\n",
    "PLATFORM = 'CWNANO'\n",
    "CRYPTO_TARGET = 'NONE'\n",
    "SS_VER = 'SS_VER_2_1'\n",
    "\n",
    "%run \"Setup_Scripts/Setup_Generic.ipynb\""
   ]
  },
  {
   "cell_type": "code",
   "execution_count": 2,
   "metadata": {
    "scrolled": true
   },
   "outputs": [
    {
     "name": "stdout",
     "output_type": "stream",
     "text": [
      "SS_VER set to SS_VER_1_1\n",
      "SS_VER set to SS_VER_1_1\n"
     ]
    },
    {
     "name": "stderr",
     "output_type": "stream",
     "text": [
      ".././hal/Makefile.hal:250: *** Invalid or empty PLATFORM: NONE. Known platforms: \n",
      "+-------------------------------------------------------+\n",
      "| PLATFORM      | DESCRIPTION                           |\n",
      "+=======================================================+\n",
      "| AVR/XMEGA Targets (8-Bit RISC)                        |\n",
      "+=======================================================+\n",
      "+-------------------------------------------------------+\n",
      "| CWLITEXMEGA   | CW-Lite XMEGA (Alias for CW303)       |\n",
      "+-------------------------------------------------------+\n",
      "| CW301_AVR     | Multi-Target Board, AVR Target        |\n",
      "+-------------------------------------------------------+\n",
      "| CW303         | XMEGA Target (CWLite), Also works     |\n",
      "|               | for CW308T-XMEGA                      |\n",
      "+-------------------------------------------------------+\n",
      "| CW304         | ATMega328P (NOTDUINO), Also works     |\n",
      "|               | for CW308T-AVR                        |\n",
      "+-------------------------------------------------------+\n",
      "| CW308_MEGARF  | ATMega2564RFR2 Target for CW308T      |\n",
      "+-------------------------------------------------------+\n",
      "+=======================================================+\n",
      "+ ARM Cortex-M Targets (Generic)                        |\n",
      "+=======================================================+\n",
      "+-------------------------------------------------------+\n",
      "| CWLITEARM     | CW-Lite Arm (Alias for CW308_STM32F3) |\n",
      "+-------------------------------------------------------+\n",
      "| CWNANO        | CW-Lite Nano (STM32F0_NANO)           |\n",
      "+-------------------------------------------------------+\n",
      "| CW308_STM32F0 | CW308T-STM32F0 (ST Micro STM32F0)     |\n",
      "+-------------------------------------------------------+\n",
      "| CW308_STM32F1 | CW308T-STM32F1 (ST Micro STM32F1)     |\n",
      "+-------------------------------------------------------+\n",
      "| CW308_STM32F2 | CW308T-STM32F2 (ST Micro STM32F2)     |\n",
      "+-------------------------------------------------------+\n",
      "| CW308_STM32F3 | CW308T-STM32F3 (ST Micro STM32F3)     |\n",
      "+-------------------------------------------------------+\n",
      "| CW308_STM32F4 | CW308T-STM32F4 (ST Micro STM32F405)   |\n",
      "+-------------------------------------------------------+\n",
      "+=======================================================+\n",
      "+ ARM Cortex-M Targets (Support CRYPTO_TARGET=HWAES)    |\n",
      "+=======================================================+\n",
      "+-------------------------------------------------------+\n",
      "| CW308_CC2538  | CW308T-CC2538 (TI CC2538)             |\n",
      "+-------------------------------------------------------+\n",
      "| CW308_        | CW308T-EFM32GG11                      |\n",
      "|   EFM32GG11   | (Silicon Labs Giant Gecko)            |\n",
      "+-------------------------------------------------------+\n",
      "| CW308_        | CW-Lite EFM32TG11B                    |\n",
      "|   EFM32TG11B  | (Silicon Labs Tiny Geko)              |\n",
      "+-------------------------------------------------------+\n",
      "| CW308_        | CW308T-EFR32MG21 (A version without   |\n",
      "|   EFR32MG21A  |                   'secure vault')     |\n",
      "+-------------------------------------------------------+\n",
      "| CW308_        | CW308T-IMXRT1062 (iMX RT1062)         |\n",
      "|   IMXRT1062   |   NXP \"Cross-Over\" Microcontroller    |\n",
      "+-------------------------------------------------------+\n",
      "| CW308_K24F    | CW308T-K24F (NXP Kinetis K24F)        |\n",
      "+-------------------------------------------------------+\n",
      "| CW308_K82F    | CW308T-K82F (NXP Kinetis K82F)        |\n",
      "+-------------------------------------------------------+\n",
      "| CW308_LPC55S6X| CW308T-LPC55S69 (NXP LPC55S69)        |\n",
      "+-------------------------------------------------------+\n",
      "| CW308_NRF52   | CW308T-NRF52840 (Nordic Semi)         |\n",
      "+-------------------------------------------------------+\n",
      "| CW308_PSOC62  | CW308T-PSOC62 (Cypress PSOC 62)       |\n",
      "+-------------------------------------------------------+\n",
      "| CW308_SAM4L   | CW308T-SAM4L (Atmel SAM4L)            |\n",
      "+-------------------------------------------------------+\n",
      "| CW308_SAML11  | CW-Lite SAML11 (Atmel SAML11)         |\n",
      "+-------------------------------------------------------+\n",
      "| CW308_STM32F2 | CW308T-STM32F2HWC (ST Micro STM32F215)|\n",
      "+-------------------------------------------------------+\n",
      "| CW308_STM32F4 | CW308T-STM32F4HWC (ST Micro STM32F415)|\n",
      "+-------------------------------------------------------+\n",
      "| CW308_STM32L4 | CW308T-STM32L4 (ST Micro STM32L443)   |\n",
      "+-------------------------------------------------------+\n",
      "| CW308_STM32L5 | CW308T-STM32L5HWC (ST Micro STM32L562)|\n",
      "+-------------------------------------------------------+\n",
      "| CW308_SAM4S   | CW308T-SAM4S (Microchip SAM4S)        |\n",
      "+-------------------------------------------------------+\n",
      "+=======================================================+\n",
      "+ Other 32-bit Architecture                             |\n",
      "+=======================================================+\n",
      "+-------------------------------------------------------+\n",
      "| CW308_AURIX   | CW-Lite AURIX (Infineon TC233A)       |\n",
      "+-------------------------------------------------------+\n",
      "| CW308_FE310   | CW308T-FE310-G002 (RISC-V)            |\n",
      "+-------------------------------------------------------+\n",
      "| CW308_        | CW308T-MPC5676R (NXP MPC5676R)        |\n",
      "|   MPC5676R    |                                       |\n",
      "+---------------|---------------------------------------+\n",
      "| CW308_NEORV32 | CW308/CW312-iCE40 with neorv32        |\n",
      "|               |   (RISC-V) soft-core processor.       |\n",
      "+---------------|---------------------------------------+\n",
      "\n",
      "Options to define platform:\n",
      "(1) Run make with PLATFORM specified as follows:\n",
      "make PLATFORM=CW304\n",
      "\n",
      "(2) Save a file called Makefile.platform with contents:\n",
      "PLATFORM=CW304\n",
      ".  Stop.\n"
     ]
    },
    {
     "name": "stdout",
     "output_type": "stream",
     "text": [
      "SS_VER set to SS_VER_2_1\n",
      "SS_VER set to SS_VER_2_1\n",
      "SS_VER set to SS_VER_2_1\n",
      "SS_VER set to SS_VER_2_1\n",
      "make[1]: '.dep' is up to date.\n",
      "SS_VER set to SS_VER_2_1\n",
      "SS_VER set to SS_VER_2_1\n",
      "arm-none-eabi-gcc (GNU Arm Embedded Toolchain 10-2020-q4-major) 10.2.1 20201103 (release)\n",
      "Copyright (C) 2020 Free Software Foundation, Inc.\n",
      "This is free software; see the source for copying conditions.  There is NO\n",
      "warranty; not even for MERCHANTABILITY or FITNESS FOR A PARTICULAR PURPOSE.\n",
      "\n",
      ".\n",
      "Welcome to another exciting ChipWhisperer target build!!\n",
      ".\n",
      "Assembling: .././hal/stm32f0/stm32f0_startup.S\n",
      "arm-none-eabi-gcc -c -mcpu=cortex-m0 -I. -x assembler-with-cpp -mthumb -mfloat-abi=soft -ffunction-sections -DF_CPU=7372800 -Wa,-gstabs,-adhlns=objdir-CWNANO/stm32f0_startup.lst -I.././simpleserial/ -I.././simpleserial/ -I.././hal -I.././hal/stm32f0 -I.././hal/stm32f0/CMSIS -I.././hal/stm32f0/CMSIS/core -I.././hal/stm32f0/CMSIS/device -I.././hal/stm32f0/Legacy .././hal/stm32f0/stm32f0_startup.S -o objdir-CWNANO/stm32f0_startup.o\n",
      ".\n",
      "Compiling:\n",
      "    simpleserial-base.c ...Done!\n",
      ".\n",
      "Compiling:\n",
      "    .././hal/stm32f0_nano/stm32f0_hal_nano.c ...Done!\n",
      ".\n",
      "Compiling:\n",
      "    AES_128.c ...Done!\n",
      ".\n",
      "Compiling:\n",
      "    .././simpleserial/simpleserial.c ...Done!\n",
      ".\n",
      "Compiling:\n",
      "    .././hal/stm32f0/stm32f0_hal_lowlevel.c ...Done!\n",
      ".\n",
      "LINKING:\n",
      "    simpleserial-base-CWNANO.elf ...Done!\n",
      ".\n",
      "Creating load file for Flash: simpleserial-base-CWNANO.hex\n",
      "arm-none-eabi-objcopy -O ihex -R .eeprom -R .fuse -R .lock -R .signature simpleserial-base-CWNANO.elf simpleserial-base-CWNANO.hex\n",
      ".\n",
      "Creating load file for Flash: simpleserial-base-CWNANO.bin\n",
      "arm-none-eabi-objcopy -O binary -R .eeprom -R .fuse -R .lock -R .signature simpleserial-base-CWNANO.elf simpleserial-base-CWNANO.bin\n",
      ".\n",
      "Creating load file for EEPROM: simpleserial-base-CWNANO.eep\n",
      "arm-none-eabi-objcopy -j .eeprom --set-section-flags=.eeprom=\"alloc,load\" \\\n",
      "--change-section-lma .eeprom=0 --no-change-warnings -O ihex simpleserial-base-CWNANO.elf simpleserial-base-CWNANO.eep || exit 0\n",
      ".\n",
      "Creating Symbol Table: simpleserial-base-CWNANO.sym\n",
      "arm-none-eabi-nm -n simpleserial-base-CWNANO.elf > simpleserial-base-CWNANO.sym\n",
      ".\n",
      "Creating Extended Listing: simpleserial-base-CWNANO.lss\n",
      "arm-none-eabi-objdump -h -S -z simpleserial-base-CWNANO.elf > simpleserial-base-CWNANO.lss\n",
      "SS_VER set to SS_VER_2_1\n",
      "SS_VER set to SS_VER_2_1\n",
      "Size after:\n",
      "   text\t   data\t    bss\t    dec\t    hex\tfilename\n",
      "  14328\t    112\t   1664\t  16104\t   3ee8\tsimpleserial-base-CWNANO.elf\n",
      "+--------------------------------------------------------\n",
      "+ Default target does full rebuild each time.\n",
      "+ Specify buildtarget == allquick == to avoid full rebuild\n",
      "+--------------------------------------------------------\n",
      "+--------------------------------------------------------\n",
      "+ Built for platform CWNANO Built-in Target (STM32F030) with:\n",
      "+ CRYPTO_TARGET = NONE\n",
      "+ CRYPTO_OPTIONS = AES128C\n",
      "+--------------------------------------------------------\n"
     ]
    }
   ],
   "source": [
    "%%bash -s \"$PLATFORM\" \"$CRYPTO_TARGET\" \"$SS_VER\"\n",
    "cd hardware/victims/firmware/simpleserial-base\n",
    "make clean\n",
    "make PLATFORM='CWNANO' CRYPTO_TARGET=$2 SS_VER=$3 -j"
   ]
  },
  {
   "cell_type": "code",
   "execution_count": 3,
   "metadata": {
    "scrolled": false
   },
   "outputs": [
    {
     "name": "stdout",
     "output_type": "stream",
     "text": [
      "Detected known STMF32: STM32F04xxx\n",
      "Extended erase (0x44), this can take ten seconds or more\n",
      "Attempting to program 14439 bytes at 0x8000000\n",
      "STM32F Programming flash...\n",
      "STM32F Reading flash...\n",
      "Verified flash OK, 14439 bytes\n"
     ]
    }
   ],
   "source": [
    "cw.program_target(scope, prog, \"hardware/victims/firmware/simpleserial-base/simpleserial-base-{}.hex\".format(PLATFORM))"
   ]
  },
  {
   "cell_type": "code",
   "execution_count": 4,
   "metadata": {},
   "outputs": [
    {
     "name": "stdout",
     "output_type": "stream",
     "text": [
      "Enter a 16 character Key1234567891234567\n",
      "Set the Key to:  ['0x31', '0x35', '0x39', '0x34', '0x32', '0x36', '0x31', '0x35', '0x33', '0x37', '0x32', '0x36', '0x34', '0x38', '0x33', '0x37']\n"
     ]
    },
    {
     "data": {
      "text/plain": [
       "CWbytearray(b'31 32 33 34 35 36 37 38 39 31 32 33 34 35 36 37')"
      ]
     },
     "execution_count": 4,
     "metadata": {},
     "output_type": "execute_result"
    }
   ],
   "source": [
    "from tqdm import tnrange\n",
    "import aes\n",
    "import numpy as np\n",
    "import time\n",
    "\n",
    "def transpose_matrix(lst):\n",
    "    matrix = [lst[i:i + 4] for i in range(0, len(lst), 4)]\n",
    "    transposed = [[matrix[j][i] for j in range(4)] for i in range(4)]\n",
    "    return [elem for row in transposed for elem in row]\n",
    "\n",
    "#Enter the system key once per program. If you want to set another key, you will have to re-program the board above\n",
    "\n",
    "key_input = input(\"Enter a 16 character Key\")\n",
    "ky = bytearray(key_input.encode('utf-8'))\n",
    "\n",
    "while len(ky) % 16 != 0:\n",
    "    ky.append(0)\n",
    "#transpose matrix for internal AES implmentation\n",
    "ky_transpose = transpose_matrix(ky)\n",
    "print(\"Set the Key to: \", [hex(num) for num in ky_transpose])\n",
    "cipher = aes.aes(int.from_bytes(ky_transpose, byteorder='big'), 128)\n",
    "#Send key to Nano\n",
    "target.simpleserial_write('p', ky)\n",
    "target.simpleserial_read('r', 16)"
   ]
  },
  {
   "cell_type": "code",
   "execution_count": 5,
   "metadata": {},
   "outputs": [],
   "source": [
    "# ###After programming target, we will write several plain texts to it###\n",
    "# ##First write the plain text, then get the encrypted text back###\n",
    "# from tqdm import tnrange\n",
    "# import aes\n",
    "# import numpy as np\n",
    "# import time\n",
    "\n",
    "# #transposes a matrix \n",
    "# def transpose_matrix(lst):\n",
    "#     matrix = [lst[i:i + 4] for i in range(0, len(lst), 4)]\n",
    "#     transposed = [[matrix[j][i] for j in range(4)] for i in range(4)]\n",
    "#     return [elem for row in transposed for elem in row]\n",
    "\n",
    "# pt = bytearray([])\n",
    "# ct = bytearray([])\n",
    "\n",
    "# #for user input\n",
    "\n",
    "# data = input(\"Enter a 16 character String\")\n",
    "# pt =bytearray(data.encode('utf-8'))\n",
    "\n",
    "# #debug plaintext and ciphertext seen in FIPS test cases\n",
    "# #pt = bytearray([0x32,0x88, 0x31, 0xe0, 0x43, 0x5a, 0x31, 0x37, 0xf6, 0x30, 0x98, 0x07, 0xa8, 0x8d, 0xa2, 0x34])\n",
    "# #ky = bytearray([0x2b, 0x28, 0xab, 0x09, 0x7e, 0xae, 0xf7, 0xcf, 0x15, 0xd2, 0x15, 0x4f, 0x16, 0xa6, 0x88, 0x3c])\n",
    "\n",
    "# #If the data is not 16 characters, pad it with zeros\n",
    "# while len(pt) % 16 != 0:\n",
    "#     pt.append(0)\n",
    "# print(\"You entered: \", data)\n",
    "# print(\"Input in Bytes: \",pt )\n",
    "# #iterate 16 bytes at a time through the entire message \n",
    "# for i in range(0, len(pt), 16):\n",
    "#     pt_chunk = pt[i:i+16]\n",
    "#     print(\"Sending 16 bytes of Plaintext: \", pt_chunk)\n",
    "#     target.simpleserial_write('p', pt_chunk)\n",
    "#     #Read the ciphertext\n",
    "#     response = target.simpleserial_read('r', 16)\n",
    "#     ct[i:i+16] = transpose_matrix(response)\n",
    "#     print(\"Recieved 16 bytes of CipherText: \", response)\n",
    "#     #Decode the ciphertext\n",
    "#     plaintext = cipher.dec_once(int.from_bytes(ct[i:i+16], byteorder='big'))\n",
    "#     decrypted_bytes = [hex(num) for num in plaintext]\n",
    "#     #Print the raw bytes and the ASCII Bytes\n",
    "#     print(\"Decrytped Data: \", decrypted_bytes)\n",
    "#     decrypted_bytes_transpose = transpose_matrix(decrypted_bytes)\n",
    "#     print(\"Decrypted ASCII \", ''.join(chr(int(num, 16)) for num in decrypted_bytes_transpose))\n",
    "\n",
    "\n",
    "\n",
    "    "
   ]
  },
  {
   "cell_type": "code",
   "execution_count": 8,
   "metadata": {},
   "outputs": [
    {
     "data": {
      "application/vnd.jupyter.widget-view+json": {
       "model_id": "4b46b98ec0754a0b9174cb2cee2010fa",
       "version_major": 2,
       "version_minor": 0
      },
      "text/plain": [
       "Capturing traces:   0%|          | 0/50 [00:00<?, ?it/s]"
      ]
     },
     "metadata": {},
     "output_type": "display_data"
    },
    {
     "name": "stderr",
     "output_type": "stream",
     "text": [
      "(ChipWhisperer Target WARNING|File SimpleSerial2.py:502) Read timed out: \n"
     ]
    }
   ],
   "source": [
    "from tqdm.notebook import trange\n",
    "import numpy as np\n",
    "import time\n",
    "import aes\n",
    "\n",
    "def capture_trace(_ignored=None):\n",
    "    return cw.capture_trace(scope, target, text).wave\n",
    "\n",
    "#transposes a matrix \n",
    "def transpose_matrix(lst):\n",
    "    matrix = [lst[i:i + 4] for i in range(0, len(lst), 4)]\n",
    "    transposed = [[matrix[j][i] for j in range(4)] for i in range(4)]\n",
    "    return [elem for row in transposed for elem in row]\n",
    "\n",
    "\n",
    "ktp = cw.ktp.Basic()\n",
    "trace_array = []\n",
    "textin_array = []\n",
    "\n",
    "proj = cw.create_project(\"RedTeamCPA\")\n",
    "\n",
    "N = 50\n",
    "for i in trange(N, desc='Capturing traces'):\n",
    "    key, text = ktp.next()\n",
    "    \n",
    "    scope.arm()\n",
    "    \n",
    "    target.simpleserial_write('p', text)\n",
    "    \n",
    "    ret = scope.capture()\n",
    "    if ret:\n",
    "        print(\"Target timed out!\")\n",
    "        continue\n",
    "    \n",
    "    power_trace = cw.capture_trace(scope, target, text, key)\n",
    "    \n",
    "    target.simpleserial_read('r', 16)\n",
    "    \n",
    "    proj.traces.append(power_trace)\n",
    "    \n",
    "proj.save()"
   ]
  },
  {
   "cell_type": "code",
   "execution_count": 9,
   "metadata": {},
   "outputs": [
    {
     "name": "stdout",
     "output_type": "stream",
     "text": [
      "Subkey KGuess Correlation\n",
      "  00    0x2B    0.72382\n",
      "  01    0x7E    0.74676\n",
      "  02    0x15    0.69870\n",
      "  03    0xDA    0.64749\n",
      "  04    0x28    0.64401\n",
      "  05    0xAE    0.70115\n",
      "  06    0xD2    0.68835\n",
      "  07    0x43    0.67188\n",
      "  08    0x84    0.67066\n",
      "  09    0x3D    0.70993\n",
      "  10    0x15    0.69150\n",
      "  11    0xB6    0.64006\n",
      "  12    0x09    0.65243\n",
      "  13    0xCF    0.68291\n",
      "  14    0xC5    0.65656\n",
      "  15    0x3C    0.66193\n",
      "\n"
     ]
    }
   ],
   "source": [
    "import chipwhisperer.analyzer as cwa\n",
    "\n",
    "leak_model = cwa.leakage_models.sbox_output\n",
    "\n",
    "attack = cwa.cpa(proj, leak_model)\n",
    "\n",
    "results = attack.run()\n",
    "\n",
    "print(results)"
   ]
  },
  {
   "cell_type": "code",
   "execution_count": 10,
   "metadata": {},
   "outputs": [
    {
     "name": "stdout",
     "output_type": "stream",
     "text": [
      "                                0                                1   \\\n",
      "0   [43, 4537, 0.7238219573153402]  [126, 4437, 0.7467580632729546]   \n",
      "1  [226, 3487, 0.6482914821388299]  [112, 2820, 0.6387771223683449]   \n",
      "2  [149, 2493, 0.6185278101571517]   [232, 3351, 0.616019939120609]   \n",
      "3    [9, 4803, 0.6087649399432328]    [69, 450, 0.6074963866294704]   \n",
      "4  [124, 4765, 0.5994594760718444]   [15, 4654, 0.6067348914020758]   \n",
      "\n",
      "                                2                                3   \\\n",
      "0    [21, 4549, 0.698700381199398]  [218, 4747, 0.6474895729590099]   \n",
      "1    [73, 510, 0.6266697731856606]   [117, 1150, 0.624960941161728]   \n",
      "2  [239, 2026, 0.6172715397110945]    [8, 1691, 0.6143799785506897]   \n",
      "3   [46, 2623, 0.6084215392301593]  [120, 2280, 0.6087567405879667]   \n",
      "4   [15, 4934, 0.5845957067615007]   [154, 3976, 0.606979322033927]   \n",
      "\n",
      "                                4                                5   \\\n",
      "0   [40, 4561, 0.6440109523218438]  [174, 4769, 0.7011544315764715]   \n",
      "1     [56, 607, 0.631585169465181]   [87, 3199, 0.6281005045558481]   \n",
      "2   [52, 2676, 0.6148312727871106]    [170, 44, 0.6232607410609904]   \n",
      "3  [241, 1095, 0.6130761381145042]  [177, 4338, 0.6160305953518509]   \n",
      "4   [50, 2500, 0.6078912917108706]   [99, 2556, 0.6159580653733909]   \n",
      "\n",
      "                                6                                7   \\\n",
      "0  [210, 4467, 0.6883456139490358]   [67, 3965, 0.6718819623588922]   \n",
      "1  [224, 1163, 0.6202431349610025]  [253, 4273, 0.6362754555789285]   \n",
      "2   [75, 3694, 0.6189070680223598]  [110, 1524, 0.6188147958073739]   \n",
      "3   [12, 4813, 0.6052731891995023]  [170, 2988, 0.6152530160664118]   \n",
      "4    [121, 124, 0.601384945760678]   [184, 691, 0.6124576835679536]   \n",
      "\n",
      "                                8                                9   \\\n",
      "0   [132, 2022, 0.670660094099144]   [61, 4802, 0.7099258399865601]   \n",
      "1   [191, 644, 0.6675124360997144]  [211, 1227, 0.6377632152559993]   \n",
      "2  [171, 4479, 0.6427944066177712]    [108, 78, 0.6371184137679025]   \n",
      "3   [48, 3943, 0.6306686231245211]     [111, 3749, 0.6184943985942]   \n",
      "4   [10, 1112, 0.6046674640012092]   [97, 4094, 0.6170170982814432]   \n",
      "\n",
      "                               10                               11  \\\n",
      "0  [21, 4491, 0.6915003974974935]  [182, 4478, 0.6400630041298435]   \n",
      "1  [98, 4975, 0.6354579961959139]    [19, 633, 0.6152040591018801]   \n",
      "2  [215, 2425, 0.635365832037621]  [174, 2956, 0.6081047052341793]   \n",
      "3   [9, 1456, 0.6320582559407347]  [229, 4459, 0.6060681067642661]   \n",
      "4  [47, 2888, 0.6290726562927229]  [216, 2287, 0.6047403922935749]   \n",
      "\n",
      "                                12                               13  \\\n",
      "0    [9, 4503, 0.6524290673020005]  [207, 4509, 0.6829095497593397]   \n",
      "1  [243, 2952, 0.6217618283580585]  [157, 4552, 0.6781166245909217]   \n",
      "2   [181, 4363, 0.617967475608216]  [238, 1548, 0.6624074930859231]   \n",
      "3    [0, 1603, 0.6056938825554369]  [222, 3670, 0.6230853024407229]   \n",
      "4    [192, 4369, 0.60457687714815]  [197, 1643, 0.6218577501155274]   \n",
      "\n",
      "                                14                               15  \n",
      "0  [197, 2530, 0.6565604765293999]    [60, 4627, 0.661928690598412]  \n",
      "1  [153, 3378, 0.6564424318215978]   [82, 3767, 0.6554466360784812]  \n",
      "2    [68, 2534, 0.654955826669536]   [37, 2689, 0.6437412979796107]  \n",
      "3    [167, 44, 0.6277054508115087]   [231, 2841, 0.617660993703446]  \n",
      "4  [185, 3529, 0.6272061739076441]  [111, 4826, 0.6051486707846934]  \n"
     ]
    }
   ],
   "source": [
    "import pandas as pd\n",
    "stat_data = results.find_maximums()\n",
    "df = pd.DataFrame(stat_data).transpose()\n",
    "print(df.head())"
   ]
  },
  {
   "cell_type": "code",
   "execution_count": null,
   "metadata": {},
   "outputs": [],
   "source": [
    "s"
   ]
  }
 ],
 "metadata": {
  "kernelspec": {
   "display_name": "Python 3 (ipykernel)",
   "language": "python",
   "name": "python3"
  },
  "language_info": {
   "codemirror_mode": {
    "name": "ipython",
    "version": 3
   },
   "file_extension": ".py",
   "mimetype": "text/x-python",
   "name": "python",
   "nbconvert_exporter": "python",
   "pygments_lexer": "ipython3",
   "version": "3.10.8"
  }
 },
 "nbformat": 4,
 "nbformat_minor": 4
}

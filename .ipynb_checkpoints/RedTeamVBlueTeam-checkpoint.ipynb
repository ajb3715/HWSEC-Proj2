{
 "cells": [
  {
   "cell_type": "markdown",
   "metadata": {},
   "source": [
    "# Project 2: Red vs. Blue Encryption Method"
   ]
  },
  {
   "cell_type": "markdown",
   "metadata": {},
   "source": [
    "**SUMMARY:** In this project we will be setting up the device to take in different plain text inputs, the device will encrypt these inputs and we will read back the encrypted text."
   ]
  },
  {
   "cell_type": "code",
   "execution_count": 1,
   "metadata": {},
   "outputs": [
    {
     "name": "stdout",
     "output_type": "stream",
     "text": [
      "INFO: Found ChipWhisperer😍\n"
     ]
    }
   ],
   "source": [
    "SCOPETYPE = 'OPENADC'\n",
    "PLATFORM = 'CWNANO'\n",
    "CRYPTO_TARGET = 'NONE'\n",
    "SS_VER = 'SS_VER_2_1'\n",
    "\n",
    "%run \"Setup_Scripts/Setup_Generic.ipynb\""
   ]
  },
  {
   "cell_type": "code",
   "execution_count": 2,
   "metadata": {
    "scrolled": true
   },
   "outputs": [
    {
     "name": "stdout",
     "output_type": "stream",
     "text": [
      "SS_VER set to SS_VER_1_1\n",
      "SS_VER set to SS_VER_1_1\n"
     ]
    },
    {
     "name": "stderr",
     "output_type": "stream",
     "text": [
      ".././hal/Makefile.hal:250: *** Invalid or empty PLATFORM: NONE. Known platforms: \n",
      "+-------------------------------------------------------+\n",
      "| PLATFORM      | DESCRIPTION                           |\n",
      "+=======================================================+\n",
      "| AVR/XMEGA Targets (8-Bit RISC)                        |\n",
      "+=======================================================+\n",
      "+-------------------------------------------------------+\n",
      "| CWLITEXMEGA   | CW-Lite XMEGA (Alias for CW303)       |\n",
      "+-------------------------------------------------------+\n",
      "| CW301_AVR     | Multi-Target Board, AVR Target        |\n",
      "+-------------------------------------------------------+\n",
      "| CW303         | XMEGA Target (CWLite), Also works     |\n",
      "|               | for CW308T-XMEGA                      |\n",
      "+-------------------------------------------------------+\n",
      "| CW304         | ATMega328P (NOTDUINO), Also works     |\n",
      "|               | for CW308T-AVR                        |\n",
      "+-------------------------------------------------------+\n",
      "| CW308_MEGARF  | ATMega2564RFR2 Target for CW308T      |\n",
      "+-------------------------------------------------------+\n",
      "+=======================================================+\n",
      "+ ARM Cortex-M Targets (Generic)                        |\n",
      "+=======================================================+\n",
      "+-------------------------------------------------------+\n",
      "| CWLITEARM     | CW-Lite Arm (Alias for CW308_STM32F3) |\n",
      "+-------------------------------------------------------+\n",
      "| CWNANO        | CW-Lite Nano (STM32F0_NANO)           |\n",
      "+-------------------------------------------------------+\n",
      "| CW308_STM32F0 | CW308T-STM32F0 (ST Micro STM32F0)     |\n",
      "+-------------------------------------------------------+\n",
      "| CW308_STM32F1 | CW308T-STM32F1 (ST Micro STM32F1)     |\n",
      "+-------------------------------------------------------+\n",
      "| CW308_STM32F2 | CW308T-STM32F2 (ST Micro STM32F2)     |\n",
      "+-------------------------------------------------------+\n",
      "| CW308_STM32F3 | CW308T-STM32F3 (ST Micro STM32F3)     |\n",
      "+-------------------------------------------------------+\n",
      "| CW308_STM32F4 | CW308T-STM32F4 (ST Micro STM32F405)   |\n",
      "+-------------------------------------------------------+\n",
      "+=======================================================+\n",
      "+ ARM Cortex-M Targets (Support CRYPTO_TARGET=HWAES)    |\n",
      "+=======================================================+\n",
      "+-------------------------------------------------------+\n",
      "| CW308_CC2538  | CW308T-CC2538 (TI CC2538)             |\n",
      "+-------------------------------------------------------+\n",
      "| CW308_        | CW308T-EFM32GG11                      |\n",
      "|   EFM32GG11   | (Silicon Labs Giant Gecko)            |\n",
      "+-------------------------------------------------------+\n",
      "| CW308_        | CW-Lite EFM32TG11B                    |\n",
      "|   EFM32TG11B  | (Silicon Labs Tiny Geko)              |\n",
      "+-------------------------------------------------------+\n",
      "| CW308_        | CW308T-EFR32MG21 (A version without   |\n",
      "|   EFR32MG21A  |                   'secure vault')     |\n",
      "+-------------------------------------------------------+\n",
      "| CW308_        | CW308T-IMXRT1062 (iMX RT1062)         |\n",
      "|   IMXRT1062   |   NXP \"Cross-Over\" Microcontroller    |\n",
      "+-------------------------------------------------------+\n",
      "| CW308_K24F    | CW308T-K24F (NXP Kinetis K24F)        |\n",
      "+-------------------------------------------------------+\n",
      "| CW308_K82F    | CW308T-K82F (NXP Kinetis K82F)        |\n",
      "+-------------------------------------------------------+\n",
      "| CW308_LPC55S6X| CW308T-LPC55S69 (NXP LPC55S69)        |\n",
      "+-------------------------------------------------------+\n",
      "| CW308_NRF52   | CW308T-NRF52840 (Nordic Semi)         |\n",
      "+-------------------------------------------------------+\n",
      "| CW308_PSOC62  | CW308T-PSOC62 (Cypress PSOC 62)       |\n",
      "+-------------------------------------------------------+\n",
      "| CW308_SAM4L   | CW308T-SAM4L (Atmel SAM4L)            |\n",
      "+-------------------------------------------------------+\n",
      "| CW308_SAML11  | CW-Lite SAML11 (Atmel SAML11)         |\n",
      "+-------------------------------------------------------+\n",
      "| CW308_STM32F2 | CW308T-STM32F2HWC (ST Micro STM32F215)|\n",
      "+-------------------------------------------------------+\n",
      "| CW308_STM32F4 | CW308T-STM32F4HWC (ST Micro STM32F415)|\n",
      "+-------------------------------------------------------+\n",
      "| CW308_STM32L4 | CW308T-STM32L4 (ST Micro STM32L443)   |\n",
      "+-------------------------------------------------------+\n",
      "| CW308_STM32L5 | CW308T-STM32L5HWC (ST Micro STM32L562)|\n",
      "+-------------------------------------------------------+\n",
      "| CW308_SAM4S   | CW308T-SAM4S (Microchip SAM4S)        |\n",
      "+-------------------------------------------------------+\n",
      "+=======================================================+\n",
      "+ Other 32-bit Architecture                             |\n",
      "+=======================================================+\n",
      "+-------------------------------------------------------+\n",
      "| CW308_AURIX   | CW-Lite AURIX (Infineon TC233A)       |\n",
      "+-------------------------------------------------------+\n",
      "| CW308_FE310   | CW308T-FE310-G002 (RISC-V)            |\n",
      "+-------------------------------------------------------+\n",
      "| CW308_        | CW308T-MPC5676R (NXP MPC5676R)        |\n",
      "|   MPC5676R    |                                       |\n",
      "+---------------|---------------------------------------+\n",
      "| CW308_NEORV32 | CW308/CW312-iCE40 with neorv32        |\n",
      "|               |   (RISC-V) soft-core processor.       |\n",
      "+---------------|---------------------------------------+\n",
      "\n",
      "Options to define platform:\n",
      "(1) Run make with PLATFORM specified as follows:\n",
      "make PLATFORM=CW304\n",
      "\n",
      "(2) Save a file called Makefile.platform with contents:\n",
      "PLATFORM=CW304\n",
      ".  Stop.\n"
     ]
    },
    {
     "name": "stdout",
     "output_type": "stream",
     "text": [
      "SS_VER set to SS_VER_2_1\n",
      "SS_VER set to SS_VER_2_1\n",
      "SS_VER set to SS_VER_2_1\n",
      "SS_VER set to SS_VER_2_1\n",
      "make[1]: '.dep' is up to date.\n",
      "SS_VER set to SS_VER_2_1\n",
      "SS_VER set to SS_VER_2_1\n",
      "arm-none-eabi-gcc (GNU Arm Embedded Toolchain 10-2020-q4-major) 10.2.1 20201103 (release)\n",
      "Copyright (C) 2020 Free Software Foundation, Inc.\n",
      "This is free software; see the source for copying conditions.  There is NO\n",
      "warranty; not even for MERCHANTABILITY or FITNESS FOR A PARTICULAR PURPOSE.\n",
      "\n",
      ".\n",
      "Welcome to another exciting ChipWhisperer target build!!\n",
      ".\n",
      "Assembling: .././hal/stm32f0/stm32f0_startup.S\n",
      "arm-none-eabi-gcc -c -mcpu=cortex-m0 -I. -x assembler-with-cpp -mthumb -mfloat-abi=soft -ffunction-sections -DF_CPU=7372800 -Wa,-gstabs,-adhlns=objdir-CWNANO/stm32f0_startup.lst -I.././simpleserial/ -I.././simpleserial/ -I.././hal -I.././hal/stm32f0 -I.././hal/stm32f0/CMSIS -I.././hal/stm32f0/CMSIS/core -I.././hal/stm32f0/CMSIS/device -I.././hal/stm32f0/Legacy .././hal/stm32f0/stm32f0_startup.S -o objdir-CWNANO/stm32f0_startup.o\n",
      ".\n",
      "Compiling:\n",
      "    simpleserial-base.c ...Done!\n",
      ".\n",
      "Compiling:\n",
      "    .././hal/stm32f0_nano/stm32f0_hal_nano.c ...Done!\n",
      ".\n",
      "Compiling:\n",
      "    AES_128.c ...Done!\n",
      ".\n",
      "Compiling:\n",
      "    .././simpleserial/simpleserial.c ...Done!\n",
      ".\n",
      "Compiling:\n",
      "    .././hal/stm32f0/stm32f0_hal_lowlevel.c ...Done!\n",
      ".\n",
      "LINKING:\n",
      "    simpleserial-base-CWNANO.elf ...Done!\n",
      ".\n",
      "Creating load file for Flash: simpleserial-base-CWNANO.hex\n",
      "arm-none-eabi-objcopy -O ihex -R .eeprom -R .fuse -R .lock -R .signature simpleserial-base-CWNANO.elf simpleserial-base-CWNANO.hex\n",
      ".\n",
      "Creating load file for Flash: simpleserial-base-CWNANO.bin\n",
      "arm-none-eabi-objcopy -O binary -R .eeprom -R .fuse -R .lock -R .signature simpleserial-base-CWNANO.elf simpleserial-base-CWNANO.bin\n",
      ".\n",
      "Creating load file for EEPROM: simpleserial-base-CWNANO.eep\n",
      "arm-none-eabi-objcopy -j .eeprom --set-section-flags=.eeprom=\"alloc,load\" \\\n",
      "--change-section-lma .eeprom=0 --no-change-warnings -O ihex simpleserial-base-CWNANO.elf simpleserial-base-CWNANO.eep || exit 0\n",
      ".\n",
      "Creating Symbol Table: simpleserial-base-CWNANO.sym\n",
      "arm-none-eabi-nm -n simpleserial-base-CWNANO.elf > simpleserial-base-CWNANO.sym\n",
      ".\n",
      "Creating Extended Listing: simpleserial-base-CWNANO.lss\n",
      "arm-none-eabi-objdump -h -S -z simpleserial-base-CWNANO.elf > simpleserial-base-CWNANO.lss\n",
      "SS_VER set to SS_VER_2_1\n",
      "SS_VER set to SS_VER_2_1\n",
      "Size after:\n",
      "   text\t   data\t    bss\t    dec\t    hex\tfilename\n",
      "  14328\t    112\t   1664\t  16104\t   3ee8\tsimpleserial-base-CWNANO.elf\n",
      "+--------------------------------------------------------\n",
      "+ Default target does full rebuild each time.\n",
      "+ Specify buildtarget == allquick == to avoid full rebuild\n",
      "+--------------------------------------------------------\n",
      "+--------------------------------------------------------\n",
      "+ Built for platform CWNANO Built-in Target (STM32F030) with:\n",
      "+ CRYPTO_TARGET = NONE\n",
      "+ CRYPTO_OPTIONS = AES128C\n",
      "+--------------------------------------------------------\n"
     ]
    }
   ],
   "source": [
    "%%bash -s \"$PLATFORM\" \"$CRYPTO_TARGET\" \"$SS_VER\"\n",
    "cd hardware/victims/firmware/simpleserial-base\n",
    "make clean\n",
    "make PLATFORM='CWNANO' CRYPTO_TARGET=$2 SS_VER=$3 -j"
   ]
  },
  {
   "cell_type": "code",
   "execution_count": 3,
   "metadata": {
    "scrolled": false
   },
   "outputs": [
    {
     "name": "stdout",
     "output_type": "stream",
     "text": [
      "Detected known STMF32: STM32F04xxx\n",
      "Extended erase (0x44), this can take ten seconds or more\n",
      "Attempting to program 14439 bytes at 0x8000000\n",
      "STM32F Programming flash...\n",
      "STM32F Reading flash...\n",
      "Verified flash OK, 14439 bytes\n"
     ]
    }
   ],
   "source": [
    "cw.program_target(scope, prog, \"hardware/victims/firmware/simpleserial-base/simpleserial-base-{}.hex\".format(PLATFORM))"
   ]
  },
  {
   "cell_type": "code",
   "execution_count": 4,
   "metadata": {},
   "outputs": [
    {
     "name": "stdout",
     "output_type": "stream",
     "text": [
      "Enter a 16 character Key1234567891234567\n",
      "Set the Key to:  ['0x31', '0x35', '0x39', '0x34', '0x32', '0x36', '0x31', '0x35', '0x33', '0x37', '0x32', '0x36', '0x34', '0x38', '0x33', '0x37']\n"
     ]
    },
    {
     "data": {
      "text/plain": [
       "CWbytearray(b'31 32 33 34 35 36 37 38 39 31 32 33 34 35 36 37')"
      ]
     },
     "execution_count": 4,
     "metadata": {},
     "output_type": "execute_result"
    }
   ],
   "source": [
    "from tqdm import tnrange\n",
    "import aes\n",
    "import numpy as np\n",
    "import time\n",
    "\n",
    "def transpose_matrix(lst):\n",
    "    matrix = [lst[i:i + 4] for i in range(0, len(lst), 4)]\n",
    "    transposed = [[matrix[j][i] for j in range(4)] for i in range(4)]\n",
    "    return [elem for row in transposed for elem in row]\n",
    "\n",
    "#Enter the system key once per program. If you want to set another key, you will have to re-program the board above\n",
    "\n",
    "key_input = input(\"Enter a 16 character Key\")\n",
    "ky = bytearray(key_input.encode('utf-8'))\n",
    "\n",
    "while len(ky) % 16 != 0:\n",
    "    ky.append(0)\n",
    "#transpose matrix for internal AES implmentation\n",
    "ky_transpose = transpose_matrix(ky)\n",
    "print(\"Set the Key to: \", [hex(num) for num in ky_transpose])\n",
    "cipher = aes.aes(int.from_bytes(ky_transpose, byteorder='big'), 128)\n",
    "#Send key to Nano\n",
    "target.simpleserial_write('p', ky)\n",
    "target.simpleserial_read('r', 16)"
   ]
  },
  {
   "cell_type": "code",
   "execution_count": 5,
   "metadata": {},
   "outputs": [],
   "source": [
    "# ###After programming target, we will write several plain texts to it###\n",
    "# ##First write the plain text, then get the encrypted text back###\n",
    "# from tqdm import tnrange\n",
    "# import aes\n",
    "# import numpy as np\n",
    "# import time\n",
    "\n",
    "# #transposes a matrix \n",
    "# def transpose_matrix(lst):\n",
    "#     matrix = [lst[i:i + 4] for i in range(0, len(lst), 4)]\n",
    "#     transposed = [[matrix[j][i] for j in range(4)] for i in range(4)]\n",
    "#     return [elem for row in transposed for elem in row]\n",
    "\n",
    "# pt = bytearray([])\n",
    "# ct = bytearray([])\n",
    "\n",
    "# #for user input\n",
    "\n",
    "# data = input(\"Enter a 16 character String\")\n",
    "# pt =bytearray(data.encode('utf-8'))\n",
    "\n",
    "# #debug plaintext and ciphertext seen in FIPS test cases\n",
    "# #pt = bytearray([0x32,0x88, 0x31, 0xe0, 0x43, 0x5a, 0x31, 0x37, 0xf6, 0x30, 0x98, 0x07, 0xa8, 0x8d, 0xa2, 0x34])\n",
    "# #ky = bytearray([0x2b, 0x28, 0xab, 0x09, 0x7e, 0xae, 0xf7, 0xcf, 0x15, 0xd2, 0x15, 0x4f, 0x16, 0xa6, 0x88, 0x3c])\n",
    "\n",
    "# #If the data is not 16 characters, pad it with zeros\n",
    "# while len(pt) % 16 != 0:\n",
    "#     pt.append(0)\n",
    "# print(\"You entered: \", data)\n",
    "# print(\"Input in Bytes: \",pt )\n",
    "# #iterate 16 bytes at a time through the entire message \n",
    "# for i in range(0, len(pt), 16):\n",
    "#     pt_chunk = pt[i:i+16]\n",
    "#     print(\"Sending 16 bytes of Plaintext: \", pt_chunk)\n",
    "#     target.simpleserial_write('p', pt_chunk)\n",
    "#     #Read the ciphertext\n",
    "#     response = target.simpleserial_read('r', 16)\n",
    "#     ct[i:i+16] = transpose_matrix(response)\n",
    "#     print(\"Recieved 16 bytes of CipherText: \", response)\n",
    "#     #Decode the ciphertext\n",
    "#     plaintext = cipher.dec_once(int.from_bytes(ct[i:i+16], byteorder='big'))\n",
    "#     decrypted_bytes = [hex(num) for num in plaintext]\n",
    "#     #Print the raw bytes and the ASCII Bytes\n",
    "#     print(\"Decrytped Data: \", decrypted_bytes)\n",
    "#     decrypted_bytes_transpose = transpose_matrix(decrypted_bytes)\n",
    "#     print(\"Decrypted ASCII \", ''.join(chr(int(num, 16)) for num in decrypted_bytes_transpose))\n",
    "\n",
    "\n",
    "\n",
    "    "
   ]
  },
  {
   "cell_type": "code",
   "execution_count": 6,
   "metadata": {},
   "outputs": [
    {
     "data": {
      "application/vnd.jupyter.widget-view+json": {
       "model_id": "65ebc0170642452489a87bc7c050d9b3",
       "version_major": 2,
       "version_minor": 0
      },
      "text/plain": [
       "Capturing traces:   0%|          | 0/50 [00:00<?, ?it/s]"
      ]
     },
     "metadata": {},
     "output_type": "display_data"
    },
    {
     "name": "stderr",
     "output_type": "stream",
     "text": [
      "(ChipWhisperer Target WARNING|File SimpleSerial2.py:502) Read timed out: \n",
      "(ChipWhisperer Target WARNING|File SimpleSerial2.py:502) Read timed out: \n",
      "(ChipWhisperer Target WARNING|File SimpleSerial2.py:502) Read timed out: \n",
      "(ChipWhisperer Target WARNING|File SimpleSerial2.py:502) Read timed out: \n",
      "(ChipWhisperer Target WARNING|File SimpleSerial2.py:502) Read timed out: \n",
      "(ChipWhisperer Target WARNING|File SimpleSerial2.py:502) Read timed out: \n",
      "(ChipWhisperer Target WARNING|File SimpleSerial2.py:502) Read timed out: \n",
      "(ChipWhisperer Target WARNING|File SimpleSerial2.py:502) Read timed out: \n",
      "(ChipWhisperer Target WARNING|File SimpleSerial2.py:502) Read timed out: \n",
      "(ChipWhisperer Target WARNING|File SimpleSerial2.py:502) Read timed out: \n",
      "(ChipWhisperer Target WARNING|File SimpleSerial2.py:502) Read timed out: \n",
      "(ChipWhisperer Target WARNING|File SimpleSerial2.py:502) Read timed out: \n",
      "(ChipWhisperer Target WARNING|File SimpleSerial2.py:502) Read timed out: \n",
      "(ChipWhisperer Target WARNING|File SimpleSerial2.py:502) Read timed out: \n",
      "(ChipWhisperer Target WARNING|File SimpleSerial2.py:502) Read timed out: \n",
      "(ChipWhisperer Target WARNING|File SimpleSerial2.py:502) Read timed out: \n",
      "(ChipWhisperer Target WARNING|File SimpleSerial2.py:502) Read timed out: \n"
     ]
    },
    {
     "ename": "KeyboardInterrupt",
     "evalue": "",
     "output_type": "error",
     "traceback": [
      "\u001b[1;31m---------------------------------------------------------------------------\u001b[0m",
      "\u001b[1;31mKeyboardInterrupt\u001b[0m                         Traceback (most recent call last)",
      "Cell \u001b[1;32mIn[6], line 30\u001b[0m\n\u001b[0;32m     26\u001b[0m     target\u001b[38;5;241m.\u001b[39msimpleserial_write(\u001b[38;5;124m'\u001b[39m\u001b[38;5;124mp\u001b[39m\u001b[38;5;124m'\u001b[39m, text)\n\u001b[0;32m     28\u001b[0m     power_trace \u001b[38;5;241m=\u001b[39m cw\u001b[38;5;241m.\u001b[39mcapture_trace(scope, target, text)\n\u001b[1;32m---> 30\u001b[0m     \u001b[43mtarget\u001b[49m\u001b[38;5;241;43m.\u001b[39;49m\u001b[43msimpleserial_read\u001b[49m\u001b[43m(\u001b[49m\u001b[38;5;124;43m'\u001b[39;49m\u001b[38;5;124;43mr\u001b[39;49m\u001b[38;5;124;43m'\u001b[39;49m\u001b[43m,\u001b[49m\u001b[43m \u001b[49m\u001b[38;5;241;43m16\u001b[39;49m\u001b[43m)\u001b[49m\n\u001b[0;32m     32\u001b[0m     proj\u001b[38;5;241m.\u001b[39mtraces\u001b[38;5;241m.\u001b[39mappend(power_trace)\n\u001b[0;32m     34\u001b[0m proj\u001b[38;5;241m.\u001b[39msave()\n",
      "File \u001b[1;32mc:\\users\\alexb\\chipwhisperer5_64\\cw\\home\\portable\\chipwhisperer\\software\\chipwhisperer\\capture\\targets\\SimpleSerial2.py:247\u001b[0m, in \u001b[0;36mSimpleSerial2.simpleserial_read\u001b[1;34m(self, cmd, pay_len, end, timeout, ack)\u001b[0m\n\u001b[0;32m    231\u001b[0m \u001b[38;5;28;01mdef\u001b[39;00m \u001b[38;5;21msimpleserial_read\u001b[39m(\u001b[38;5;28mself\u001b[39m, cmd\u001b[38;5;241m=\u001b[39m\u001b[38;5;28;01mNone\u001b[39;00m, pay_len\u001b[38;5;241m=\u001b[39m\u001b[38;5;28;01mNone\u001b[39;00m, end\u001b[38;5;241m=\u001b[39m\u001b[38;5;124m'\u001b[39m\u001b[38;5;130;01m\\n\u001b[39;00m\u001b[38;5;124m'\u001b[39m, timeout\u001b[38;5;241m=\u001b[39m\u001b[38;5;241m250\u001b[39m, ack\u001b[38;5;241m=\u001b[39m\u001b[38;5;28;01mTrue\u001b[39;00m):\n\u001b[0;32m    232\u001b[0m \u001b[38;5;250m    \u001b[39m\u001b[38;5;124;03m\"\"\"Reads back response from target and ack packet.\u001b[39;00m\n\u001b[0;32m    233\u001b[0m \n\u001b[0;32m    234\u001b[0m \u001b[38;5;124;03m    Args:\u001b[39;00m\n\u001b[1;32m   (...)\u001b[0m\n\u001b[0;32m    245\u001b[0m \u001b[38;5;124;03m            2. Defaults to True.\u001b[39;00m\n\u001b[0;32m    246\u001b[0m \u001b[38;5;124;03m    \"\"\"\u001b[39;00m\n\u001b[1;32m--> 247\u001b[0m     rtn \u001b[38;5;241m=\u001b[39m \u001b[38;5;28;43mself\u001b[39;49m\u001b[38;5;241;43m.\u001b[39;49m\u001b[43mread_cmd\u001b[49m\u001b[43m(\u001b[49m\u001b[43mcmd\u001b[49m\u001b[43m,\u001b[49m\u001b[43m \u001b[49m\u001b[43mpay_len\u001b[49m\u001b[43m,\u001b[49m\u001b[43m \u001b[49m\u001b[43mtimeout\u001b[49m\u001b[43m)\u001b[49m\n\u001b[0;32m    248\u001b[0m     \u001b[38;5;28;01mif\u001b[39;00m \u001b[38;5;129;01mnot\u001b[39;00m rtn:\n\u001b[0;32m    249\u001b[0m         \u001b[38;5;28;01mreturn\u001b[39;00m \u001b[38;5;28;01mNone\u001b[39;00m\n",
      "File \u001b[1;32mc:\\users\\alexb\\chipwhisperer5_64\\cw\\home\\portable\\chipwhisperer\\software\\chipwhisperer\\capture\\targets\\SimpleSerial2.py:501\u001b[0m, in \u001b[0;36mSimpleSerial2.read_cmd\u001b[1;34m(self, cmd, pay_len, timeout, flush_on_err)\u001b[0m\n\u001b[0;32m    498\u001b[0m target_logger\u001b[38;5;241m.\u001b[39mdebug(\u001b[38;5;124m\"\u001b[39m\u001b[38;5;124m1st read: \u001b[39m\u001b[38;5;132;01m{}\u001b[39;00m\u001b[38;5;124m\"\u001b[39m\u001b[38;5;241m.\u001b[39mformat(\u001b[38;5;28mbytearray\u001b[39m(response\u001b[38;5;241m.\u001b[39mencode())))\n\u001b[0;32m    500\u001b[0m \u001b[38;5;28;01mif\u001b[39;00m response \u001b[38;5;129;01mis\u001b[39;00m \u001b[38;5;28;01mNone\u001b[39;00m \u001b[38;5;129;01mor\u001b[39;00m \u001b[38;5;28mlen\u001b[39m(response) \u001b[38;5;241m<\u001b[39m recv_len:\n\u001b[1;32m--> 501\u001b[0m     \u001b[38;5;28;43mself\u001b[39;49m\u001b[38;5;241;43m.\u001b[39;49m\u001b[43mflush_on_error\u001b[49m\u001b[43m(\u001b[49m\u001b[43m)\u001b[49m\n\u001b[0;32m    502\u001b[0m     target_logger\u001b[38;5;241m.\u001b[39mwarning(\u001b[38;5;124m\"\u001b[39m\u001b[38;5;124mRead timed out: \u001b[39m\u001b[38;5;124m\"\u001b[39m \u001b[38;5;241m+\u001b[39m response)\n\u001b[0;32m    503\u001b[0m     \u001b[38;5;28;01mreturn\u001b[39;00m \u001b[38;5;28;01mNone\u001b[39;00m\n",
      "File \u001b[1;32mc:\\users\\alexb\\chipwhisperer5_64\\cw\\home\\portable\\chipwhisperer\\software\\chipwhisperer\\capture\\targets\\SimpleSerial2.py:269\u001b[0m, in \u001b[0;36mSimpleSerial2.flush_on_error\u001b[1;34m(self)\u001b[0m\n\u001b[0;32m    267\u001b[0m \u001b[38;5;28;01mif\u001b[39;00m \u001b[38;5;28mself\u001b[39m\u001b[38;5;241m.\u001b[39m_flush_on_err:\n\u001b[0;32m    268\u001b[0m     \u001b[38;5;28mself\u001b[39m\u001b[38;5;241m.\u001b[39mreset_comms()\n\u001b[1;32m--> 269\u001b[0m     \u001b[43mtime\u001b[49m\u001b[38;5;241;43m.\u001b[39;49m\u001b[43msleep\u001b[49m\u001b[43m(\u001b[49m\u001b[38;5;241;43m0.15\u001b[39;49m\u001b[43m)\u001b[49m\n\u001b[0;32m    270\u001b[0m     \u001b[38;5;28mself\u001b[39m\u001b[38;5;241m.\u001b[39mflush()\n",
      "\u001b[1;31mKeyboardInterrupt\u001b[0m: "
     ]
    }
   ],
   "source": [
    "from tqdm.notebook import trange\n",
    "import numpy as np\n",
    "import time\n",
    "import aes\n",
    "\n",
    "def capture_trace(_ignored=None):\n",
    "    return cw.capture_trace(scope, target, text).wave\n",
    "\n",
    "#transposes a matrix \n",
    "def transpose_matrix(lst):\n",
    "    matrix = [lst[i:i + 4] for i in range(0, len(lst), 4)]\n",
    "    transposed = [[matrix[j][i] for j in range(4)] for i in range(4)]\n",
    "    return [elem for row in transposed for elem in row]\n",
    "\n",
    "\n",
    "ktp = cw.ktp.Basic()\n",
    "trace_array = []\n",
    "textin_array = []\n",
    "\n",
    "proj = cw.create_project(\"RedTeamCPA\")\n",
    "\n",
    "N = 50\n",
    "for i in trange(N, desc='Capturing traces'):\n",
    "    key, text = ktp.next()\n",
    "    \n",
    "    target.simpleserial_write('p', text)\n",
    "    \n",
    "    power_trace = cw.capture_trace(scope, target, text)\n",
    "    \n",
    "    target.simpleserial_read('r', 16)\n",
    "    \n",
    "    proj.traces.append(power_trace)\n",
    "    \n",
    "proj.save()"
   ]
  },
  {
   "cell_type": "code",
   "execution_count": null,
   "metadata": {},
   "outputs": [],
   "source": [
    "import chipwhisperer.analyzer as cwa\n",
    "\n",
    "leak_model = cwa.leakage_models.sbox_output\n",
    "\n",
    "attack = cwa.cpa(proj, leak_model)\n",
    "\n",
    "results = attack.run()\n",
    "\n",
    "print(results)"
   ]
  }
 ],
 "metadata": {
  "kernelspec": {
   "display_name": "Python 3 (ipykernel)",
   "language": "python",
   "name": "python3"
  },
  "language_info": {
   "codemirror_mode": {
    "name": "ipython",
    "version": 3
   },
   "file_extension": ".py",
   "mimetype": "text/x-python",
   "name": "python",
   "nbconvert_exporter": "python",
   "pygments_lexer": "ipython3",
   "version": "3.10.8"
  }
 },
 "nbformat": 4,
 "nbformat_minor": 4
}

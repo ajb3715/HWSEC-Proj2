{
 "cells": [
  {
   "cell_type": "markdown",
   "metadata": {},
   "source": [
    "# Project 2: Red vs. Blue Encryption Method"
   ]
  },
  {
   "cell_type": "markdown",
   "metadata": {},
   "source": [
    "**SUMMARY:** In this project we will be setting up the device to take in different plain text inputs, the device will encrypt these inputs and we will read back the encrypted text."
   ]
  },
  {
   "cell_type": "code",
   "execution_count": 30,
   "metadata": {},
   "outputs": [
    {
     "name": "stdout",
     "output_type": "stream",
     "text": [
      "INFO: Caught exception on reconnecting to target - attempting to reconnect to scope first.\n",
      "INFO: This is a work-around when USB has died without Python knowing. Ignore errors above this line.\n",
      "INFO: Found ChipWhisperer😍\n"
     ]
    }
   ],
   "source": [
    "SCOPETYPE = 'OPENADC'\n",
    "PLATFORM = 'CWNANO'\n",
    "CRYPTO_TARGET = 'NONE'\n",
    "SS_VER = 'SS_VER_2_1'\n",
    "\n",
    "%run \"Setup_Scripts/Setup_Generic.ipynb\""
   ]
  },
  {
   "cell_type": "code",
   "execution_count": 31,
   "metadata": {
    "scrolled": true
   },
   "outputs": [
    {
     "name": "stdout",
     "output_type": "stream",
     "text": [
      "SS_VER set to SS_VER_1_1\n",
      "SS_VER set to SS_VER_1_1\n"
     ]
    },
    {
     "name": "stderr",
     "output_type": "stream",
     "text": [
      ".././hal/Makefile.hal:250: *** Invalid or empty PLATFORM: NONE. Known platforms: \n",
      "+-------------------------------------------------------+\n",
      "| PLATFORM      | DESCRIPTION                           |\n",
      "+=======================================================+\n",
      "| AVR/XMEGA Targets (8-Bit RISC)                        |\n",
      "+=======================================================+\n",
      "+-------------------------------------------------------+\n",
      "| CWLITEXMEGA   | CW-Lite XMEGA (Alias for CW303)       |\n",
      "+-------------------------------------------------------+\n",
      "| CW301_AVR     | Multi-Target Board, AVR Target        |\n",
      "+-------------------------------------------------------+\n",
      "| CW303         | XMEGA Target (CWLite), Also works     |\n",
      "|               | for CW308T-XMEGA                      |\n",
      "+-------------------------------------------------------+\n",
      "| CW304         | ATMega328P (NOTDUINO), Also works     |\n",
      "|               | for CW308T-AVR                        |\n",
      "+-------------------------------------------------------+\n",
      "| CW308_MEGARF  | ATMega2564RFR2 Target for CW308T      |\n",
      "+-------------------------------------------------------+\n",
      "+=======================================================+\n",
      "+ ARM Cortex-M Targets (Generic)                        |\n",
      "+=======================================================+\n",
      "+-------------------------------------------------------+\n",
      "| CWLITEARM     | CW-Lite Arm (Alias for CW308_STM32F3) |\n",
      "+-------------------------------------------------------+\n",
      "| CWNANO        | CW-Lite Nano (STM32F0_NANO)           |\n",
      "+-------------------------------------------------------+\n",
      "| CW308_STM32F0 | CW308T-STM32F0 (ST Micro STM32F0)     |\n",
      "+-------------------------------------------------------+\n",
      "| CW308_STM32F1 | CW308T-STM32F1 (ST Micro STM32F1)     |\n",
      "+-------------------------------------------------------+\n",
      "| CW308_STM32F2 | CW308T-STM32F2 (ST Micro STM32F2)     |\n",
      "+-------------------------------------------------------+\n",
      "| CW308_STM32F3 | CW308T-STM32F3 (ST Micro STM32F3)     |\n",
      "+-------------------------------------------------------+\n",
      "| CW308_STM32F4 | CW308T-STM32F4 (ST Micro STM32F405)   |\n",
      "+-------------------------------------------------------+\n",
      "+=======================================================+\n",
      "+ ARM Cortex-M Targets (Support CRYPTO_TARGET=HWAES)    |\n",
      "+=======================================================+\n",
      "+-------------------------------------------------------+\n",
      "| CW308_CC2538  | CW308T-CC2538 (TI CC2538)             |\n",
      "+-------------------------------------------------------+\n",
      "| CW308_        | CW308T-EFM32GG11                      |\n",
      "|   EFM32GG11   | (Silicon Labs Giant Gecko)            |\n",
      "+-------------------------------------------------------+\n",
      "| CW308_        | CW-Lite EFM32TG11B                    |\n",
      "|   EFM32TG11B  | (Silicon Labs Tiny Geko)              |\n",
      "+-------------------------------------------------------+\n",
      "| CW308_        | CW308T-EFR32MG21 (A version without   |\n",
      "|   EFR32MG21A  |                   'secure vault')     |\n",
      "+-------------------------------------------------------+\n",
      "| CW308_        | CW308T-IMXRT1062 (iMX RT1062)         |\n",
      "|   IMXRT1062   |   NXP \"Cross-Over\" Microcontroller    |\n",
      "+-------------------------------------------------------+\n",
      "| CW308_K24F    | CW308T-K24F (NXP Kinetis K24F)        |\n",
      "+-------------------------------------------------------+\n",
      "| CW308_K82F    | CW308T-K82F (NXP Kinetis K82F)        |\n",
      "+-------------------------------------------------------+\n",
      "| CW308_LPC55S6X| CW308T-LPC55S69 (NXP LPC55S69)        |\n",
      "+-------------------------------------------------------+\n",
      "| CW308_NRF52   | CW308T-NRF52840 (Nordic Semi)         |\n",
      "+-------------------------------------------------------+\n",
      "| CW308_PSOC62  | CW308T-PSOC62 (Cypress PSOC 62)       |\n",
      "+-------------------------------------------------------+\n",
      "| CW308_SAM4L   | CW308T-SAM4L (Atmel SAM4L)            |\n",
      "+-------------------------------------------------------+\n",
      "| CW308_SAML11  | CW-Lite SAML11 (Atmel SAML11)         |\n",
      "+-------------------------------------------------------+\n",
      "| CW308_STM32F2 | CW308T-STM32F2HWC (ST Micro STM32F215)|\n",
      "+-------------------------------------------------------+\n",
      "| CW308_STM32F4 | CW308T-STM32F4HWC (ST Micro STM32F415)|\n",
      "+-------------------------------------------------------+\n",
      "| CW308_STM32L4 | CW308T-STM32L4 (ST Micro STM32L443)   |\n",
      "+-------------------------------------------------------+\n",
      "| CW308_STM32L5 | CW308T-STM32L5HWC (ST Micro STM32L562)|\n",
      "+-------------------------------------------------------+\n",
      "| CW308_SAM4S   | CW308T-SAM4S (Microchip SAM4S)        |\n",
      "+-------------------------------------------------------+\n",
      "+=======================================================+\n",
      "+ Other 32-bit Architecture                             |\n",
      "+=======================================================+\n",
      "+-------------------------------------------------------+\n",
      "| CW308_AURIX   | CW-Lite AURIX (Infineon TC233A)       |\n",
      "+-------------------------------------------------------+\n",
      "| CW308_FE310   | CW308T-FE310-G002 (RISC-V)            |\n",
      "+-------------------------------------------------------+\n",
      "| CW308_        | CW308T-MPC5676R (NXP MPC5676R)        |\n",
      "|   MPC5676R    |                                       |\n",
      "+---------------|---------------------------------------+\n",
      "| CW308_NEORV32 | CW308/CW312-iCE40 with neorv32        |\n",
      "|               |   (RISC-V) soft-core processor.       |\n",
      "+---------------|---------------------------------------+\n",
      "\n",
      "Options to define platform:\n",
      "(1) Run make with PLATFORM specified as follows:\n",
      "make PLATFORM=CW304\n",
      "\n",
      "(2) Save a file called Makefile.platform with contents:\n",
      "PLATFORM=CW304\n",
      ".  Stop.\n"
     ]
    },
    {
     "name": "stdout",
     "output_type": "stream",
     "text": [
      "SS_VER set to SS_VER_2_1\n",
      "SS_VER set to SS_VER_2_1\n",
      "SS_VER set to SS_VER_2_1\n",
      "SS_VER set to SS_VER_2_1\n",
      "make[1]: '.dep' is up to date.\n",
      "SS_VER set to SS_VER_2_1\n",
      "SS_VER set to SS_VER_2_1\n",
      "arm-none-eabi-gcc (15:13.2.rel1-2) 13.2.1 20231009\n",
      "Copyright (C) 2023 Free Software Foundation, Inc.\n",
      "This is free software; see the source for copying conditions.  There is NO\n",
      "warranty; not even for MERCHANTABILITY or FITNESS FOR A PARTICULAR PURPOSE.\n",
      "\n",
      ".\n",
      "Welcome to another exciting ChipWhisperer target build!!\n",
      ".\n",
      "Assembling: .././hal/stm32f0/stm32f0_startup.S\n",
      "arm-none-eabi-gcc -c -mcpu=cortex-m0 -I. -x assembler-with-cpp -mthumb -mfloat-abi=soft -ffunction-sections -DF_CPU=7372800 -Wa,-gstabs,-adhlns=objdir-CWNANO/stm32f0_startup.lst -I.././simpleserial/ -I.././simpleserial/ -I.././hal -I.././hal/stm32f0 -I.././hal/stm32f0/CMSIS -I.././hal/stm32f0/CMSIS/core -I.././hal/stm32f0/CMSIS/device -I.././hal/stm32f0/Legacy .././hal/stm32f0/stm32f0_startup.S -o objdir-CWNANO/stm32f0_startup.o\n",
      ".\n",
      "Compiling:\n",
      "-en     simpleserial-base.c ...\n",
      "-e Done!\n",
      ".\n",
      "Compiling:\n",
      "-en     .././hal/stm32f0_nano/stm32f0_hal_nano.c ...\n",
      "-e Done!\n",
      ".\n",
      "Compiling:\n",
      "-en     AES_128.c ...\n",
      "-e Done!\n",
      ".\n",
      "Compiling:\n",
      "-en     .././simpleserial/simpleserial.c ...\n",
      "-e Done!\n",
      ".\n",
      "Compiling:\n",
      "-en     .././hal/stm32f0/stm32f0_hal_lowlevel.c ...\n",
      "-e Done!\n",
      ".\n",
      "LINKING:\n",
      "-en     simpleserial-base-CWNANO.elf ...\n",
      "/usr/lib/gcc/arm-none-eabi/13.2.1/../../../arm-none-eabi/bin/ld: /usr/lib/gcc/arm-none-eabi/13.2.1/../../../arm-none-eabi/lib/thumb/v6-m/nofp/libg_nano.a(libc_a-closer.o): note: the message above does not take linker garbage collection into account\n",
      "/usr/lib/gcc/arm-none-eabi/13.2.1/../../../arm-none-eabi/bin/ld: /usr/lib/gcc/arm-none-eabi/13.2.1/../../../arm-none-eabi/lib/thumb/v6-m/nofp/libg_nano.a(libc_a-fstatr.o): note: the message above does not take linker garbage collection into account\n",
      "/usr/lib/gcc/arm-none-eabi/13.2.1/../../../arm-none-eabi/bin/ld: /usr/lib/gcc/arm-none-eabi/13.2.1/../../../arm-none-eabi/lib/thumb/v6-m/nofp/libg_nano.a(libc_a-signalr.o): note: the message above does not take linker garbage collection into account\n",
      "/usr/lib/gcc/arm-none-eabi/13.2.1/../../../arm-none-eabi/bin/ld: /usr/lib/gcc/arm-none-eabi/13.2.1/../../../arm-none-eabi/lib/thumb/v6-m/nofp/libg_nano.a(libc_a-gettimeofdayr.o): note: the message above does not take linker garbage collection into account\n",
      "/usr/lib/gcc/arm-none-eabi/13.2.1/../../../arm-none-eabi/bin/ld: /usr/lib/gcc/arm-none-eabi/13.2.1/../../../arm-none-eabi/lib/thumb/v6-m/nofp/libg_nano.a(libc_a-isattyr.o): note: the message above does not take linker garbage collection into account\n",
      "/usr/lib/gcc/arm-none-eabi/13.2.1/../../../arm-none-eabi/bin/ld: /usr/lib/gcc/arm-none-eabi/13.2.1/../../../arm-none-eabi/lib/thumb/v6-m/nofp/libg_nano.a(libc_a-signalr.o): note: the message above does not take linker garbage collection into account\n",
      "/usr/lib/gcc/arm-none-eabi/13.2.1/../../../arm-none-eabi/bin/ld: /usr/lib/gcc/arm-none-eabi/13.2.1/../../../arm-none-eabi/lib/thumb/v6-m/nofp/libg_nano.a(libc_a-lseekr.o): note: the message above does not take linker garbage collection into account\n",
      "/usr/lib/gcc/arm-none-eabi/13.2.1/../../../arm-none-eabi/bin/ld: /usr/lib/gcc/arm-none-eabi/13.2.1/../../../arm-none-eabi/lib/thumb/v6-m/nofp/libg_nano.a(libc_a-readr.o): note: the message above does not take linker garbage collection into account\n",
      "/usr/lib/gcc/arm-none-eabi/13.2.1/../../../arm-none-eabi/bin/ld: /usr/lib/gcc/arm-none-eabi/13.2.1/../../../arm-none-eabi/lib/thumb/v6-m/nofp/libg_nano.a(libc_a-writer.o): note: the message above does not take linker garbage collection into account\n",
      "-e Done!\n"
     ]
    },
    {
     "name": "stderr",
     "output_type": "stream",
     "text": [
      "/usr/lib/gcc/arm-none-eabi/13.2.1/../../../arm-none-eabi/bin/ld: /usr/lib/gcc/arm-none-eabi/13.2.1/../../../arm-none-eabi/lib/thumb/v6-m/nofp/libg_nano.a(libc_a-closer.o): in function `_close_r':\n",
      "/build/newlib-38V0JC/newlib-4.4.0.20231231/build_nano/arm-none-eabi/thumb/v6-m/nofp/newlib/../../../../../../newlib/libc/reent/closer.c:47:(.text+0xc): warning: _close is not implemented and will always fail\n",
      "/usr/lib/gcc/arm-none-eabi/13.2.1/../../../arm-none-eabi/bin/ld: /usr/lib/gcc/arm-none-eabi/13.2.1/../../../arm-none-eabi/lib/thumb/v6-m/nofp/libg_nano.a(libc_a-fstatr.o): in function `_fstat_r':\n",
      "/build/newlib-38V0JC/newlib-4.4.0.20231231/build_nano/arm-none-eabi/thumb/v6-m/nofp/newlib/../../../../../../newlib/libc/reent/fstatr.c:55:(.text+0xe): warning: _fstat is not implemented and will always fail\n",
      "/usr/lib/gcc/arm-none-eabi/13.2.1/../../../arm-none-eabi/bin/ld: /usr/lib/gcc/arm-none-eabi/13.2.1/../../../arm-none-eabi/lib/thumb/v6-m/nofp/libg_nano.a(libc_a-signalr.o): in function `_getpid_r':\n",
      "/build/newlib-38V0JC/newlib-4.4.0.20231231/build_nano/arm-none-eabi/thumb/v6-m/nofp/newlib/../../../../../../newlib/libc/reent/signalr.c:83:(.text+0x2a): warning: _getpid is not implemented and will always fail\n",
      "/usr/lib/gcc/arm-none-eabi/13.2.1/../../../arm-none-eabi/bin/ld: /usr/lib/gcc/arm-none-eabi/13.2.1/../../../arm-none-eabi/lib/thumb/v6-m/nofp/libg_nano.a(libc_a-gettimeofdayr.o): in function `_gettimeofday_r':\n",
      "/build/newlib-38V0JC/newlib-4.4.0.20231231/build_nano/arm-none-eabi/thumb/v6-m/nofp/newlib/../../../../../../newlib/libc/reent/gettimeofdayr.c:62:(.text+0xe): warning: _gettimeofday is not implemented and will always fail\n",
      "/usr/lib/gcc/arm-none-eabi/13.2.1/../../../arm-none-eabi/bin/ld: /usr/lib/gcc/arm-none-eabi/13.2.1/../../../arm-none-eabi/lib/thumb/v6-m/nofp/libg_nano.a(libc_a-isattyr.o): in function `_isatty_r':\n",
      "/build/newlib-38V0JC/newlib-4.4.0.20231231/build_nano/arm-none-eabi/thumb/v6-m/nofp/newlib/../../../../../../newlib/libc/reent/isattyr.c:52:(.text+0xc): warning: _isatty is not implemented and will always fail\n",
      "/usr/lib/gcc/arm-none-eabi/13.2.1/../../../arm-none-eabi/bin/ld: /usr/lib/gcc/arm-none-eabi/13.2.1/../../../arm-none-eabi/lib/thumb/v6-m/nofp/libg_nano.a(libc_a-signalr.o): in function `_kill_r':\n",
      "/build/newlib-38V0JC/newlib-4.4.0.20231231/build_nano/arm-none-eabi/thumb/v6-m/nofp/newlib/../../../../../../newlib/libc/reent/signalr.c:53:(.text+0xe): warning: _kill is not implemented and will always fail\n",
      "/usr/lib/gcc/arm-none-eabi/13.2.1/../../../arm-none-eabi/bin/ld: /usr/lib/gcc/arm-none-eabi/13.2.1/../../../arm-none-eabi/lib/thumb/v6-m/nofp/libg_nano.a(libc_a-lseekr.o): in function `_lseek_r':\n",
      "/build/newlib-38V0JC/newlib-4.4.0.20231231/build_nano/arm-none-eabi/thumb/v6-m/nofp/newlib/../../../../../../newlib/libc/reent/lseekr.c:49:(.text+0x10): warning: _lseek is not implemented and will always fail\n",
      "/usr/lib/gcc/arm-none-eabi/13.2.1/../../../arm-none-eabi/bin/ld: /usr/lib/gcc/arm-none-eabi/13.2.1/../../../arm-none-eabi/lib/thumb/v6-m/nofp/libg_nano.a(libc_a-readr.o): in function `_read_r':\n",
      "/build/newlib-38V0JC/newlib-4.4.0.20231231/build_nano/arm-none-eabi/thumb/v6-m/nofp/newlib/../../../../../../newlib/libc/reent/readr.c:49:(.text+0x10): warning: _read is not implemented and will always fail\n",
      "/usr/lib/gcc/arm-none-eabi/13.2.1/../../../arm-none-eabi/bin/ld: /usr/lib/gcc/arm-none-eabi/13.2.1/../../../arm-none-eabi/lib/thumb/v6-m/nofp/libg_nano.a(libc_a-writer.o): in function `_write_r':\n",
      "/build/newlib-38V0JC/newlib-4.4.0.20231231/build_nano/arm-none-eabi/thumb/v6-m/nofp/newlib/../../../../../../newlib/libc/reent/writer.c:49:(.text+0x10): warning: _write is not implemented and will always fail\n"
     ]
    },
    {
     "name": "stdout",
     "output_type": "stream",
     "text": [
      ".\n",
      "Creating load file for EEPROM: simpleserial-base-CWNANO.eep\n",
      "arm-none-eabi-objcopy -j .eeprom --set-section-flags=.eeprom=\"alloc,load\" \\\n",
      "--change-section-lma .eeprom=0 --no-change-warnings -O ihex simpleserial-base-CWNANO.elf simpleserial-base-CWNANO.eep || exit 0\n",
      ".\n",
      "Creating Symbol Table: simpleserial-base-CWNANO.sym\n",
      "arm-none-eabi-nm -n simpleserial-base-CWNANO.elf > simpleserial-base-CWNANO.sym\n",
      ".\n",
      "Creating load file for Flash: simpleserial-base-CWNANO.hex\n",
      "arm-none-eabi-objcopy -O ihex -R .eeprom -R .fuse -R .lock -R .signature simpleserial-base-CWNANO.elf simpleserial-base-CWNANO.hex\n",
      ".\n",
      "Creating load file for Flash: simpleserial-base-CWNANO.bin\n",
      "arm-none-eabi-objcopy -O binary -R .eeprom -R .fuse -R .lock -R .signature simpleserial-base-CWNANO.elf simpleserial-base-CWNANO.bin\n",
      ".\n",
      "Creating Extended Listing: simpleserial-base-CWNANO.lss\n",
      "arm-none-eabi-objdump -h -S -z simpleserial-base-CWNANO.elf > simpleserial-base-CWNANO.lss\n",
      "SS_VER set to SS_VER_2_1\n",
      "SS_VER set to SS_VER_2_1\n",
      "+--------------------------------------------------------\n",
      "+ Default target does full rebuild each time.\n",
      "+ Specify buildtarget == allquick == to avoid full rebuild\n",
      "+--------------------------------------------------------\n",
      "+--------------------------------------------------------\n",
      "+ Built for platform CWNANO Built-in Target (STM32F030) with:\n",
      "+ CRYPTO_TARGET = NONE\n",
      "+ CRYPTO_OPTIONS = AES128C\n",
      "+--------------------------------------------------------\n",
      "Size after:\n",
      "   text\t   data\t    bss\t    dec\t    hex\tfilename\n",
      "  18168\t    104\t   1976\t  20248\t   4f18\tsimpleserial-base-CWNANO.elf\n"
     ]
    }
   ],
   "source": [
    "%%bash -s \"$PLATFORM\" \"$CRYPTO_TARGET\" \"$SS_VER\"\n",
    "cd hardware/victims/firmware/simpleserial-base\n",
    "make clean\n",
    "make PLATFORM=$1 CRYPTO_TARGET=$2 SS_VER=$3 -j"
   ]
  },
  {
   "cell_type": "code",
   "execution_count": 32,
   "metadata": {},
   "outputs": [
    {
     "name": "stderr",
     "output_type": "stream",
     "text": [
      "(ChipWhisperer Target ERROR|File programmer_stm32fserial.py:204) Your STM32F0 has a max of 0x4000 flash, but this firmware is 0x475F. Firmware/programming may not work!\n"
     ]
    },
    {
     "name": "stdout",
     "output_type": "stream",
     "text": [
      "Detected known STMF32: STM32F03xx4/03xx6\n",
      "Extended erase (0x44), this can take ten seconds or more\n",
      "Attempting to program 18271 bytes at 0x8000000\n",
      "STM32F Programming flash...\n",
      "STM32F Reading flash...\n",
      "Verified flash OK, 18271 bytes\n"
     ]
    }
   ],
   "source": [
    "cw.program_target(scope, prog, \"hardware/victims/firmware/simpleserial-base/simpleserial-base-{}.hex\".format(PLATFORM))"
   ]
  },
  {
   "cell_type": "code",
   "execution_count": null,
   "metadata": {},
   "outputs": [
    {
     "name": "stdout",
     "output_type": "stream",
     "text": [
      "Set the Key to:  ['0x64', '0x74', '0x67', '0x0', '0x68', '0x67', '0x64', '0x0', '0x67', '0x68', '0x0', '0x0', '0x68', '0x73', '0x0', '0x0']\n"
     ]
    },
    {
     "data": {
      "text/plain": [
       "CWbytearray(b'64 68 67 68 74 67 68 73 67 64 00 00 00 00 00 00')"
      ]
     },
     "execution_count": 33,
     "metadata": {},
     "output_type": "execute_result"
    }
   ],
   "source": [
    "from tqdm import tnrange\n",
    "import aes\n",
    "import numpy as np\n",
    "import time\n",
    "\n",
    "#Enter the system key once per program. If you want to set another key, you will have to re-program the board above\n",
    "\n",
    "key_input = input(\"Enter a 16 character Key\")\n",
    "ky = bytearray(key_input.encode('utf-8'))\n",
    "\n",
    "while len(ky) % 16 != 0:\n",
    "    ky.append(0)\n",
    "#transpose matrix for internal AES implmentation\n",
    "ky_transpose = transpose_matrix(ky)\n",
    "print(\"Set the Key to: \", [hex(num) for num in ky_transpose])\n",
    "cipher = aes.aes(int.from_bytes(ky_transpose, byteorder='big'), 128)\n",
    "#Send key to Nano\n",
    "target.simpleserial_write('p', ky)\n",
    "target.simpleserial_read('r', 16)"
   ]
  },
  {
   "cell_type": "code",
   "execution_count": null,
   "metadata": {},
   "outputs": [
    {
     "name": "stdout",
     "output_type": "stream",
     "text": [
      "You entered:  this is a test\n",
      "Input in Bytes:  bytearray(b'this is a test\\x00\\x00')\n",
      "Sending 16 bytes of Plaintext:  bytearray(b'this is a test\\x00\\x00')\n",
      "Recieved 16 bytes of CipherText:  CWbytearray(b'b4 96 d8 d5 9f 3d d2 dd 7f fe b5 4c 74 d4 d2 48')\n",
      "Decrytped Data:  ['0x74', '0x20', '0x61', '0x73', '0x68', '0x69', '0x20', '0x74', '0x69', '0x73', '0x74', '0x0', '0x73', '0x20', '0x65', '0x0']\n",
      "Decrypted ASCII  this is a test\u0000\u0000\n"
     ]
    }
   ],
   "source": [
    "###After programming target, we will write several plain texts to it###\n",
    "##First write the plain text, then get the encrypted text back###\n",
    "from tqdm import tnrange\n",
    "import aes\n",
    "import numpy as np\n",
    "import time\n",
    "\n",
    "#transposes a matrix \n",
    "def transpose_matrix(lst):\n",
    "    matrix = [lst[i:i + 4] for i in range(0, len(lst), 4)]\n",
    "    transposed = [[matrix[j][i] for j in range(4)] for i in range(4)]\n",
    "    return [elem for row in transposed for elem in row]\n",
    "\n",
    "pt = bytearray([])\n",
    "ct = bytearray([])\n",
    "\n",
    "#for user input\n",
    "\n",
    "data = input(\"Enter a 16 character String\")\n",
    "pt =bytearray(data.encode('utf-8'))\n",
    "\n",
    "#debug plaintext and ciphertext seen in FIPS test cases\n",
    "#pt = bytearray([0x32,0x88, 0x31, 0xe0, 0x43, 0x5a, 0x31, 0x37, 0xf6, 0x30, 0x98, 0x07, 0xa8, 0x8d, 0xa2, 0x34])\n",
    "#ky = bytearray([0x2b, 0x28, 0xab, 0x09, 0x7e, 0xae, 0xf7, 0xcf, 0x15, 0xd2, 0x15, 0x4f, 0x16, 0xa6, 0x88, 0x3c])\n",
    "\n",
    "#If the data is not 16 characters, pad it with zeros\n",
    "while len(pt) % 16 != 0:\n",
    "    pt.append(0)\n",
    "print(\"You entered: \", data)\n",
    "print(\"Input in Bytes: \",pt )\n",
    "#iterate 16 bytes at a time through the entire message \n",
    "for i in range(0, len(pt), 16):\n",
    "    pt_chunk = pt[i:i+16]\n",
    "    print(\"Sending 16 bytes of Plaintext: \", pt_chunk)\n",
    "    target.simpleserial_write('p', pt_chunk)\n",
    "    #Read the ciphertext\n",
    "    response = target.simpleserial_read('r', 16)\n",
    "    ct[i:i+16] = transpose_matrix(response)\n",
    "    print(\"Recieved 16 bytes of CipherText: \", response)\n",
    "    #Decode the ciphertext\n",
    "    plaintext = cipher.dec_once(int.from_bytes(ct[i:i+16], byteorder='big'))\n",
    "    decrypted_bytes = [hex(num) for num in plaintext]\n",
    "    #Print the raw bytes and the ASCII Bytes\n",
    "    print(\"Decrytped Data: \", decrypted_bytes)\n",
    "    decrypted_bytes_transpose = transpose_matrix(decrypted_bytes)\n",
    "    print(\"Decrypted ASCII \", ''.join(chr(int(num, 16)) for num in decrypted_bytes_transpose))\n",
    "\n",
    "\n",
    "\n",
    "    "
   ]
  },
  {
   "cell_type": "code",
   "execution_count": null,
   "metadata": {},
   "outputs": [],
   "source": []
  }
 ],
 "metadata": {
  "kernelspec": {
   "display_name": "Python 3",
   "language": "python",
   "name": "python3"
  },
  "language_info": {
   "codemirror_mode": {
    "name": "ipython",
    "version": 3
   },
   "file_extension": ".py",
   "mimetype": "text/x-python",
   "name": "python",
   "nbconvert_exporter": "python",
   "pygments_lexer": "ipython3",
   "version": "3.12.7"
  }
 },
 "nbformat": 4,
 "nbformat_minor": 4
}
